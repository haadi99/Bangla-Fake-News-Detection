{
  "nbformat": 4,
  "nbformat_minor": 0,
  "metadata": {
    "colab": {
      "name": "Bangla  fake news detection_12448_12404_R.ipynb",
      "provenance": [],
      "collapsed_sections": []
    },
    "kernelspec": {
      "name": "python3",
      "display_name": "Python 3"
    },
    "language_info": {
      "name": "python"
    }
  },
  "cells": [
    {
      "cell_type": "code",
      "execution_count": null,
      "metadata": {
        "id": "p4SijMVCeJ43"
      },
      "outputs": [],
      "source": [
        "import numpy as np\n",
        "import pandas as pd\n",
        "import re\n",
        "from sklearn.feature_extraction.text import TfidfVectorizer\n",
        "from sklearn.model_selection import train_test_split\n",
        "from sklearn.linear_model import LogisticRegression\n",
        "from sklearn.metrics import accuracy_score\n",
        "import seaborn as sns\n",
        "import matplotlib.pyplot as plt"
      ]
    },
    {
      "cell_type": "code",
      "source": [
        "from google.colab import drive\n",
        "drive.mount('/content/drive')"
      ],
      "metadata": {
        "colab": {
          "base_uri": "https://localhost:8080/"
        },
        "id": "Gz0CBGW1hYaU",
        "outputId": "478a083d-4566-4129-a49d-4d223e74ca86"
      },
      "execution_count": null,
      "outputs": [
        {
          "output_type": "stream",
          "name": "stdout",
          "text": [
            "Drive already mounted at /content/drive; to attempt to forcibly remount, call drive.mount(\"/content/drive\", force_remount=True).\n"
          ]
        }
      ]
    },
    {
      "cell_type": "code",
      "source": [
        "news_dataset = pd.read_csv('/content/drive/MyDrive/DM&ML/Data set.csv')"
      ],
      "metadata": {
        "id": "N1VSuuH4hhoK"
      },
      "execution_count": null,
      "outputs": []
    },
    {
      "cell_type": "code",
      "source": [
        "news_dataset.shape"
      ],
      "metadata": {
        "colab": {
          "base_uri": "https://localhost:8080/"
        },
        "id": "pwaUVXGDhmZS",
        "outputId": "1213bb1c-da87-4136-9317-6c77c043687e"
      },
      "execution_count": null,
      "outputs": [
        {
          "output_type": "execute_result",
          "data": {
            "text/plain": [
              "(7202, 9)"
            ]
          },
          "metadata": {},
          "execution_count": 5
        }
      ]
    },
    {
      "cell_type": "code",
      "source": [
        "news_dataset.head(5)"
      ],
      "metadata": {
        "colab": {
          "base_uri": "https://localhost:8080/",
          "height": 337
        },
        "id": "6GjIdBh7lKKt",
        "outputId": "4d329818-1489-4180-e579-7239fe977672"
      },
      "execution_count": null,
      "outputs": [
        {
          "output_type": "execute_result",
          "data": {
            "text/html": [
              "\n",
              "  <div id=\"df-729d23c6-b265-4a28-9a71-dbf133d74fce\">\n",
              "    <div class=\"colab-df-container\">\n",
              "      <div>\n",
              "<style scoped>\n",
              "    .dataframe tbody tr th:only-of-type {\n",
              "        vertical-align: middle;\n",
              "    }\n",
              "\n",
              "    .dataframe tbody tr th {\n",
              "        vertical-align: top;\n",
              "    }\n",
              "\n",
              "    .dataframe thead th {\n",
              "        text-align: right;\n",
              "    }\n",
              "</style>\n",
              "<table border=\"1\" class=\"dataframe\">\n",
              "  <thead>\n",
              "    <tr style=\"text-align: right;\">\n",
              "      <th></th>\n",
              "      <th>articleID</th>\n",
              "      <th>domain</th>\n",
              "      <th>date</th>\n",
              "      <th>category</th>\n",
              "      <th>source</th>\n",
              "      <th>relation</th>\n",
              "      <th>headline</th>\n",
              "      <th>content</th>\n",
              "      <th>label</th>\n",
              "    </tr>\n",
              "  </thead>\n",
              "  <tbody>\n",
              "    <tr>\n",
              "      <th>0</th>\n",
              "      <td>1.0</td>\n",
              "      <td>bd-pratidin.com</td>\n",
              "      <td>9/20/2018 8:16</td>\n",
              "      <td>Sports</td>\n",
              "      <td>আফগান ক্রিকেট বোর্ড (এসিবি) প্রধান</td>\n",
              "      <td>Related</td>\n",
              "      <td>হঠাৎ আফগান ক্রিকেট বোর্ড প্রধানের পদত্যাগ</td>\n",
              "      <td>ক্রিকেট বিশ্বের নতুন চমকের নাম আফগানিস্তান। কয়...</td>\n",
              "      <td>1.0</td>\n",
              "    </tr>\n",
              "    <tr>\n",
              "      <th>1</th>\n",
              "      <td>2.0</td>\n",
              "      <td>jugantor.com</td>\n",
              "      <td>9/20/2018 20:20</td>\n",
              "      <td>Sports</td>\n",
              "      <td>Reporter</td>\n",
              "      <td>Related</td>\n",
              "      <td>টস হেরে বোলিংয়ে বাংলাদেশ</td>\n",
              "      <td>এশিয়া কাপের ষষ্ঠ ম্যাচে বাংলাদেশ দলের বিপক্ষে ...</td>\n",
              "      <td>0.0</td>\n",
              "    </tr>\n",
              "    <tr>\n",
              "      <th>2</th>\n",
              "      <td>3.0</td>\n",
              "      <td>bd24live.com</td>\n",
              "      <td>9/20/2018 16:39</td>\n",
              "      <td>National</td>\n",
              "      <td>Reporter</td>\n",
              "      <td>Related</td>\n",
              "      <td>রাজধানীতে বিশেষ অভিযানে আটক ৪৩</td>\n",
              "      <td>রাজধানীতে মাদক বিরোধী বিশেষ অভিযান পরিচালনা কর...</td>\n",
              "      <td>1.0</td>\n",
              "    </tr>\n",
              "    <tr>\n",
              "      <th>3</th>\n",
              "      <td>4.0</td>\n",
              "      <td>bd24live.com</td>\n",
              "      <td>9/19/2018 18:27</td>\n",
              "      <td>National</td>\n",
              "      <td>জননিরাপত্তা বিভাগের সচিব</td>\n",
              "      <td>Related</td>\n",
              "      <td>উস্কানি রোধে নজরদারি থাকবে সামাজিক যোগাযোগ মাধ...</td>\n",
              "      <td>সনাতন ধর্মাবলম্বীদের সবচেয়ে বড় ধর্মীয় উৎসব দুর...</td>\n",
              "      <td>1.0</td>\n",
              "    </tr>\n",
              "    <tr>\n",
              "      <th>4</th>\n",
              "      <td>5.0</td>\n",
              "      <td>somoynews.tv</td>\n",
              "      <td>9/20/2018 10:15</td>\n",
              "      <td>Finance</td>\n",
              "      <td>পেট্রোল পাম্প মালিক সমিতি সভাপতি</td>\n",
              "      <td>Related</td>\n",
              "      <td>'যেখানে তেল আসত ৭ দিনে, এখন তা আসবে অতি দ্রুত'</td>\n",
              "      <td>ভারত থেকে পাইপ লাইনের মাধ্যমে সরাসরি দেশে জ্বা...</td>\n",
              "      <td>0.0</td>\n",
              "    </tr>\n",
              "  </tbody>\n",
              "</table>\n",
              "</div>\n",
              "      <button class=\"colab-df-convert\" onclick=\"convertToInteractive('df-729d23c6-b265-4a28-9a71-dbf133d74fce')\"\n",
              "              title=\"Convert this dataframe to an interactive table.\"\n",
              "              style=\"display:none;\">\n",
              "        \n",
              "  <svg xmlns=\"http://www.w3.org/2000/svg\" height=\"24px\"viewBox=\"0 0 24 24\"\n",
              "       width=\"24px\">\n",
              "    <path d=\"M0 0h24v24H0V0z\" fill=\"none\"/>\n",
              "    <path d=\"M18.56 5.44l.94 2.06.94-2.06 2.06-.94-2.06-.94-.94-2.06-.94 2.06-2.06.94zm-11 1L8.5 8.5l.94-2.06 2.06-.94-2.06-.94L8.5 2.5l-.94 2.06-2.06.94zm10 10l.94 2.06.94-2.06 2.06-.94-2.06-.94-.94-2.06-.94 2.06-2.06.94z\"/><path d=\"M17.41 7.96l-1.37-1.37c-.4-.4-.92-.59-1.43-.59-.52 0-1.04.2-1.43.59L10.3 9.45l-7.72 7.72c-.78.78-.78 2.05 0 2.83L4 21.41c.39.39.9.59 1.41.59.51 0 1.02-.2 1.41-.59l7.78-7.78 2.81-2.81c.8-.78.8-2.07 0-2.86zM5.41 20L4 18.59l7.72-7.72 1.47 1.35L5.41 20z\"/>\n",
              "  </svg>\n",
              "      </button>\n",
              "      \n",
              "  <style>\n",
              "    .colab-df-container {\n",
              "      display:flex;\n",
              "      flex-wrap:wrap;\n",
              "      gap: 12px;\n",
              "    }\n",
              "\n",
              "    .colab-df-convert {\n",
              "      background-color: #E8F0FE;\n",
              "      border: none;\n",
              "      border-radius: 50%;\n",
              "      cursor: pointer;\n",
              "      display: none;\n",
              "      fill: #1967D2;\n",
              "      height: 32px;\n",
              "      padding: 0 0 0 0;\n",
              "      width: 32px;\n",
              "    }\n",
              "\n",
              "    .colab-df-convert:hover {\n",
              "      background-color: #E2EBFA;\n",
              "      box-shadow: 0px 1px 2px rgba(60, 64, 67, 0.3), 0px 1px 3px 1px rgba(60, 64, 67, 0.15);\n",
              "      fill: #174EA6;\n",
              "    }\n",
              "\n",
              "    [theme=dark] .colab-df-convert {\n",
              "      background-color: #3B4455;\n",
              "      fill: #D2E3FC;\n",
              "    }\n",
              "\n",
              "    [theme=dark] .colab-df-convert:hover {\n",
              "      background-color: #434B5C;\n",
              "      box-shadow: 0px 1px 3px 1px rgba(0, 0, 0, 0.15);\n",
              "      filter: drop-shadow(0px 1px 2px rgba(0, 0, 0, 0.3));\n",
              "      fill: #FFFFFF;\n",
              "    }\n",
              "  </style>\n",
              "\n",
              "      <script>\n",
              "        const buttonEl =\n",
              "          document.querySelector('#df-729d23c6-b265-4a28-9a71-dbf133d74fce button.colab-df-convert');\n",
              "        buttonEl.style.display =\n",
              "          google.colab.kernel.accessAllowed ? 'block' : 'none';\n",
              "\n",
              "        async function convertToInteractive(key) {\n",
              "          const element = document.querySelector('#df-729d23c6-b265-4a28-9a71-dbf133d74fce');\n",
              "          const dataTable =\n",
              "            await google.colab.kernel.invokeFunction('convertToInteractive',\n",
              "                                                     [key], {});\n",
              "          if (!dataTable) return;\n",
              "\n",
              "          const docLinkHtml = 'Like what you see? Visit the ' +\n",
              "            '<a target=\"_blank\" href=https://colab.research.google.com/notebooks/data_table.ipynb>data table notebook</a>'\n",
              "            + ' to learn more about interactive tables.';\n",
              "          element.innerHTML = '';\n",
              "          dataTable['output_type'] = 'display_data';\n",
              "          await google.colab.output.renderOutput(dataTable, element);\n",
              "          const docLink = document.createElement('div');\n",
              "          docLink.innerHTML = docLinkHtml;\n",
              "          element.appendChild(docLink);\n",
              "        }\n",
              "      </script>\n",
              "    </div>\n",
              "  </div>\n",
              "  "
            ],
            "text/plain": [
              "   articleID  ... label\n",
              "0        1.0  ...   1.0\n",
              "1        2.0  ...   0.0\n",
              "2        3.0  ...   1.0\n",
              "3        4.0  ...   1.0\n",
              "4        5.0  ...   0.0\n",
              "\n",
              "[5 rows x 9 columns]"
            ]
          },
          "metadata": {},
          "execution_count": 6
        }
      ]
    },
    {
      "cell_type": "code",
      "source": [
        "news_dataset.isnull().sum()"
      ],
      "metadata": {
        "colab": {
          "base_uri": "https://localhost:8080/"
        },
        "id": "WvvN4pw1hoCS",
        "outputId": "4ef6e21d-279e-4a19-c419-2f694b6aafd6"
      },
      "execution_count": null,
      "outputs": [
        {
          "output_type": "execute_result",
          "data": {
            "text/plain": [
              "articleID    2175\n",
              "domain       2175\n",
              "date         2175\n",
              "category     2175\n",
              "source       2175\n",
              "relation     2175\n",
              "headline     2175\n",
              "content      2184\n",
              "label        2175\n",
              "dtype: int64"
            ]
          },
          "metadata": {},
          "execution_count": 7
        }
      ]
    },
    {
      "cell_type": "code",
      "source": [
        "news_dataset = news_dataset.dropna()"
      ],
      "metadata": {
        "id": "fYIThQ2xhyzT"
      },
      "execution_count": null,
      "outputs": []
    },
    {
      "cell_type": "code",
      "source": [
        "news_dataset.isnull().sum()"
      ],
      "metadata": {
        "colab": {
          "base_uri": "https://localhost:8080/"
        },
        "id": "iMpwq-lfh6MM",
        "outputId": "f591f25c-d060-43c5-bfba-6d7a82f66628"
      },
      "execution_count": null,
      "outputs": [
        {
          "output_type": "execute_result",
          "data": {
            "text/plain": [
              "articleID    0\n",
              "domain       0\n",
              "date         0\n",
              "category     0\n",
              "source       0\n",
              "relation     0\n",
              "headline     0\n",
              "content      0\n",
              "label        0\n",
              "dtype: int64"
            ]
          },
          "metadata": {},
          "execution_count": 9
        }
      ]
    },
    {
      "cell_type": "code",
      "source": [
        "news_dataset.shape"
      ],
      "metadata": {
        "colab": {
          "base_uri": "https://localhost:8080/"
        },
        "id": "q7E7j2hviRDb",
        "outputId": "2260ae39-d3ef-4a39-94d5-f15448880cca"
      },
      "execution_count": null,
      "outputs": [
        {
          "output_type": "execute_result",
          "data": {
            "text/plain": [
              "(5018, 9)"
            ]
          },
          "metadata": {},
          "execution_count": 10
        }
      ]
    },
    {
      "cell_type": "code",
      "source": [
        "print(\"Total Reviews:\",len(news_dataset),\n",
        "      \"\\nTotal fake news:\",len(news_dataset[news_dataset.label ==0]),\n",
        "      \"\\nTotal Authentic news:\",len(news_dataset[news_dataset.label ==1]),\n",
        "      \"\\nTotal  semi fake news:\",len(news_dataset[news_dataset.label ==2]))"
      ],
      "metadata": {
        "colab": {
          "base_uri": "https://localhost:8080/"
        },
        "id": "xrC50UialS_L",
        "outputId": "2416cdf7-435f-4e88-beda-958e2e3237b2"
      },
      "execution_count": null,
      "outputs": [
        {
          "output_type": "stream",
          "name": "stdout",
          "text": [
            "Total Reviews: 5018 \n",
            "Total fake news: 2788 \n",
            "Total Authentic news: 1965 \n",
            "Total  semi fake news: 265\n"
          ]
        }
      ]
    },
    {
      "cell_type": "code",
      "source": [
        "sns.set(font_scale=1.4)\n",
        "news_dataset['label'].value_counts().plot(kind='barh', figsize=(10,3))\n",
        "plt.xlabel(\"Number of rows\",labelpad=12)\n",
        "plt.ylabel(\"label\",labelpad=12)\n",
        "plt.title(\"Dataset Distribution\",y=1.10)"
      ],
      "metadata": {
        "colab": {
          "base_uri": "https://localhost:8080/",
          "height": 302
        },
        "id": "W0sjgHNOlTJb",
        "outputId": "ec42b701-1cf5-4366-d7be-f2cd60d342ee"
      },
      "execution_count": null,
      "outputs": [
        {
          "output_type": "execute_result",
          "data": {
            "text/plain": [
              "Text(0.5, 1.1, 'Dataset Distribution')"
            ]
          },
          "metadata": {},
          "execution_count": 12
        },
        {
          "output_type": "display_data",
          "data": {
            "image/png": "[encoded data removed]",
            "text/plain": [
              "<Figure size 720x216 with 1 Axes>"
            ]
          },
          "metadata": {}
        }
      ]
    },
    {
      "cell_type": "code",
      "source": [
        "news_dataset['content1'] = news_dataset['headline']+' '+news_dataset['content']"
      ],
      "metadata": {
        "id": "X4S1TiytiYCz"
      },
      "execution_count": null,
      "outputs": []
    },
    {
      "cell_type": "code",
      "source": [
        "print(news_dataset['content1'])"
      ],
      "metadata": {
        "colab": {
          "base_uri": "https://localhost:8080/"
        },
        "id": "F-j_NmPTigVK",
        "outputId": "e7e58894-b8fd-4c5b-be33-1c9cf59a6e6c"
      },
      "execution_count": null,
      "outputs": [
        {
          "output_type": "stream",
          "name": "stdout",
          "text": [
            "0       হঠাৎ আফগান ক্রিকেট বোর্ড প্রধানের পদত্যাগ ক্রি...\n",
            "1       টস হেরে বোলিংয়ে বাংলাদেশ এশিয়া কাপের ষষ্ঠ ম্যা...\n",
            "2       রাজধানীতে বিশেষ অভিযানে আটক ৪৩ রাজধানীতে মাদক ...\n",
            "3       উস্কানি রোধে নজরদারি থাকবে সামাজিক যোগাযোগ মাধ...\n",
            "4       'যেখানে তেল আসত ৭ দিনে, এখন তা আসবে অতি দ্রুত'...\n",
            "                              ...                        \n",
            "5022    চাকরিতে প্রবেশের বয়সসীমা ৩৫ বছরে উন্নীতের সুপা...\n",
            "5023    দলীয় ১শ’ রানে মিরাজের বিদায় আফগানিস্তানের দেয়া...\n",
            "5024    বরিশালে জাল দলিলসহ চার প্রতারক আটক বরিশাল: বরি...\n",
            "5025    ধরা পড়েছেন সেই ঠগি ধীরে ধীরে পর্দা খুলছেন আমির...\n",
            "5026    উচাখিলা কলেজের নির্বাচন স্থগিত ইংরেজিতে ভোটার ...\n",
            "Name: content1, Length: 5018, dtype: object\n"
          ]
        }
      ]
    },
    {
      "cell_type": "code",
      "source": [
        "X = news_dataset.drop(columns='label', axis=1)\n",
        "Y = news_dataset['label']"
      ],
      "metadata": {
        "id": "b-Mqa2dZilZK"
      },
      "execution_count": null,
      "outputs": []
    },
    {
      "cell_type": "code",
      "source": [
        "print(X)\n",
        "print(Y)"
      ],
      "metadata": {
        "colab": {
          "base_uri": "https://localhost:8080/"
        },
        "id": "dt5esziSirA7",
        "outputId": "140e623b-b556-47d2-915f-0845995f7bef"
      },
      "execution_count": null,
      "outputs": [
        {
          "output_type": "stream",
          "name": "stdout",
          "text": [
            "      articleID  ...                                           content1\n",
            "0           1.0  ...  হঠাৎ আফগান ক্রিকেট বোর্ড প্রধানের পদত্যাগ ক্রি...\n",
            "1           2.0  ...  টস হেরে বোলিংয়ে বাংলাদেশ এশিয়া কাপের ষষ্ঠ ম্যা...\n",
            "2           3.0  ...  রাজধানীতে বিশেষ অভিযানে আটক ৪৩ রাজধানীতে মাদক ...\n",
            "3           4.0  ...  উস্কানি রোধে নজরদারি থাকবে সামাজিক যোগাযোগ মাধ...\n",
            "4           5.0  ...  'যেখানে তেল আসত ৭ দিনে, এখন তা আসবে অতি দ্রুত'...\n",
            "...         ...  ...                                                ...\n",
            "5022     5489.0  ...  চাকরিতে প্রবেশের বয়সসীমা ৩৫ বছরে উন্নীতের সুপা...\n",
            "5023     5490.0  ...  দলীয় ১শ’ রানে মিরাজের বিদায় আফগানিস্তানের দেয়া...\n",
            "5024     5491.0  ...  বরিশালে জাল দলিলসহ চার প্রতারক আটক বরিশাল: বরি...\n",
            "5025     5492.0  ...  ধরা পড়েছেন সেই ঠগি ধীরে ধীরে পর্দা খুলছেন আমির...\n",
            "5026     5493.0  ...  উচাখিলা কলেজের নির্বাচন স্থগিত ইংরেজিতে ভোটার ...\n",
            "\n",
            "[5018 rows x 9 columns]\n",
            "0       1.0\n",
            "1       0.0\n",
            "2       1.0\n",
            "3       1.0\n",
            "4       0.0\n",
            "       ... \n",
            "5022    0.0\n",
            "5023    0.0\n",
            "5024    1.0\n",
            "5025    1.0\n",
            "5026    0.0\n",
            "Name: label, Length: 5018, dtype: float64\n"
          ]
        }
      ]
    },
    {
      "cell_type": "code",
      "source": [
        "def process_content1(content1):\n",
        "   content1=re.sub('[^\\u0980-\\u09FF]',' ',str(content1)) #removing unnecessary punctuation and special character\n",
        "   return content1"
      ],
      "metadata": {
        "id": "X0rvTciIithT"
      },
      "execution_count": null,
      "outputs": []
    },
    {
      "cell_type": "code",
      "source": [
        "news_dataset['cleaned']=news_dataset['content1'].apply(process_content1)\n",
        "\n",
        "sample_data=[0,1,100,102,128,1005,4002,2004,3005,5001]\n",
        "for i in sample_data:\n",
        "           print('Original:\\n',news_dataset.content1[i],'\\nCleaned:\\n',\n",
        "                 news_dataset.cleaned[i],'\\n','Sentiment:---',news_dataset.label[i],'\\n')"
      ],
      "metadata": {
        "colab": {
          "base_uri": "https://localhost:8080/"
        },
        "id": "gr25F1yJixZ0",
        "outputId": "dd0372b7-436f-4f69-b0e4-0956f2ce3eb5"
      },
      "execution_count": null,
      "outputs": [
        {
          "output_type": "stream",
          "name": "stdout",
          "text": [
            "Original:\n",
            " হঠাৎ আফগান ক্রিকেট বোর্ড প্রধানের পদত্যাগ ক্রিকেট বিশ্বের নতুন চমকের নাম আফগানিস্তান। কয়েক বছরে তাদের পারফরম্যান্স নজর কেড়েছে ক্রিকেট জগতের। এশিয়া কাপের ১৪তম আসরেও দারুণ ছন্দে আছে আফগান ক্রিকেটাররা। পাঁচবারের এশিয়া কাপ চ্যাম্পিয়ন শ্রীলঙ্কাকে হারিয়ে এরই মধ্যে সেরা চারে পৌঁছে গেছে তারা। তবে দলের এমন ভালো সময়ে হঠাৎ করেই পদত্যাগ করেন আফগান ক্রিকেট বোর্ড (এসিবি) প্রধান আতিফ মাশাল। তবে হঠাৎ কী কারণে তার এই পদত্যাগ- এ নিয়ে ওঠা প্রশ্নের জবাব দিয়েছেন আতিফ। তিনি জানান, সরকারের অন্য একটি বিশেষ পদে তাকে নিয়োগ দেওয়ার কারণেই বোর্ডের দায়িত্ব থেকে অব্যাহতি। তার পরিবর্তে এসিবির দায়িত্ব নেবেন আফগান বোর্ডের সাবেক সহ সভাপতি আজিজ উল্লাহ ফজলে।   ২০১৭ সালের জানুয়ারিতে পাঁচ বছরের জন্য আতিফকে বোর্ড প্রধান নির্বাচন করা হলেও দায়িত্বের আড়াই বছরের মাথায় দায়িত্ব থেকে অব্যাহতি দিলেন তিনি। বিডি প্রতিদিন/ ওয়াসিফ \n",
            "Cleaned:\n",
            " হঠাৎ আফগান ক্রিকেট বোর্ড প্রধানের পদত্যাগ ক্রিকেট বিশ্বের নতুন চমকের নাম আফগানিস্তান  কয়েক বছরে তাদের পারফরম্যান্স নজর কেড়েছে ক্রিকেট জগতের  এশিয়া কাপের ১৪তম আসরেও দারুণ ছন্দে আছে আফগান ক্রিকেটাররা  পাঁচবারের এশিয়া কাপ চ্যাম্পিয়ন শ্রীলঙ্কাকে হারিয়ে এরই মধ্যে সেরা চারে পৌঁছে গেছে তারা  তবে দলের এমন ভালো সময়ে হঠাৎ করেই পদত্যাগ করেন আফগান ক্রিকেট বোর্ড  এসিবি  প্রধান আতিফ মাশাল  তবে হঠাৎ কী কারণে তার এই পদত্যাগ  এ নিয়ে ওঠা প্রশ্নের জবাব দিয়েছেন আতিফ  তিনি জানান  সরকারের অন্য একটি বিশেষ পদে তাকে নিয়োগ দেওয়ার কারণেই বোর্ডের দায়িত্ব থেকে অব্যাহতি  তার পরিবর্তে এসিবির দায়িত্ব নেবেন আফগান বোর্ডের সাবেক সহ সভাপতি আজিজ উল্লাহ ফজলে    ২০১৭ সালের জানুয়ারিতে পাঁচ বছরের জন্য আতিফকে বোর্ড প্রধান নির্বাচন করা হলেও দায়িত্বের আড়াই বছরের মাথায় দায়িত্ব থেকে অব্যাহতি দিলেন তিনি  বিডি প্রতিদিন  ওয়াসিফ \n",
            " Sentiment:--- 1.0 \n",
            "\n",
            "Original:\n",
            " টস হেরে বোলিংয়ে বাংলাদেশ এশিয়া কাপের ষষ্ঠ ম্যাচে বাংলাদেশ দলের বিপক্ষে টস জিতে প্রথমে ব্যাট করার সিদ্ধান্ত নিয়েছেন আফগানিস্তান ক্রিকেট দলের অধিনায়ক আসগর আফগান। আবুধাবিতে খেলাটি অনুষ্ঠিত হচ্ছে। দেড় যুগ আগে বাংলাদেশ যখন টেস্ট আঙিনায় পা রাখে, আফগানদের তখন ক্রিকেটে হাতেখড়িই হয়নি। ১৮ বছর পর আন্তর্জাতিক ক্রিকেটে সব ফরম্যাট মিলিয়ে মুখোমুখি লড়াইয়ে সেই আফগানিস্তানের চেয়ে পিছিয়ে থাকাটা বাংলাদেশের জন্য নিঃসন্দেহে বিব্রতকর একটি ব্যাপার। আবুধাবিতে এশিয়া কাপের গ্রুপ পর্বের শেষ ম্যাচে খেলছে দু’দল। নিয়মরক্ষার এই ম্যাচটি বাংলাদেশের জন্য দেরাদুনের ক্ষত শুকানোর দারুণ একটি সুযোগ। গত জুনেই ভারতের দেরাদুনে তিন ম্যাচের টি-টোয়েন্টি সিরিজের আফগানিস্তানের কাছে ৩-০তে ধবলধোলাই হওয়ার লজ্জায় ডুবতে হয়েছিল বাংলাদেশকে। এই সিরিজটিই মুখোমুখি লড়াইয়ে এগিয়ে দিয়েছে আফগানদের। অবশ্য শুধু ওয়ানডের ক্ষেত্রে এগিয়ে বাংলাদেশ। ওয়ানডেতে দু’দলের আগের পাঁচ ম্যাচের তিনটিতে জিতেছে বাংলাদেশ, দুটিতে আফগানিস্তান। আর টি-টোয়েন্টিতে চার ম্যাচে আফগানদের তিন জয়ের বিপরীতে বাংলাদেশের জন্য একটি। সবমিলিয়ে আন্তর্জাতিক ক্রিকেটে নয়বারের দেখায় বাংলাদেশের জয় চারটি, আফগানিস্তানের পাঁচটি। আজ ওয়ানডেতে দু’দলের ষষ্ঠ সাক্ষাতে বাংলাদেশ জিতলে মুখোমুখি লড়াইয়ে সমতা ফেরার পাশাপাশি দেরাদুনের জ্বালাও কিছুটা জুড়াবে। দু’দলই শ্রীলংকাকে উড়িয়ে দিয়ে শুরু করেছে এশিয়া কাপ যাত্রা। এক জয়েই নিশ্চিত হয়ে গেছে সুপার ফোরের টিকিট। টুর্নামেন্টের মাঝপথে সূচির আচমকা বদলে গ্রুপসেরা হওয়ার ব্যাপারটি মূল্যহীন হয়ে যাওয়ায় আজকের ম্যাচটি শুধুই মর্যাদার লড়াই। \n",
            "Cleaned:\n",
            " টস হেরে বোলিংয়ে বাংলাদেশ এশিয়া কাপের ষষ্ঠ ম্যাচে বাংলাদেশ দলের বিপক্ষে টস জিতে প্রথমে ব্যাট করার সিদ্ধান্ত নিয়েছেন আফগানিস্তান ক্রিকেট দলের অধিনায়ক আসগর আফগান  আবুধাবিতে খেলাটি অনুষ্ঠিত হচ্ছে  দেড় যুগ আগে বাংলাদেশ যখন টেস্ট আঙিনায় পা রাখে  আফগানদের তখন ক্রিকেটে হাতেখড়িই হয়নি  ১৮ বছর পর আন্তর্জাতিক ক্রিকেটে সব ফরম্যাট মিলিয়ে মুখোমুখি লড়াইয়ে সেই আফগানিস্তানের চেয়ে পিছিয়ে থাকাটা বাংলাদেশের জন্য নিঃসন্দেহে বিব্রতকর একটি ব্যাপার  আবুধাবিতে এশিয়া কাপের গ্রুপ পর্বের শেষ ম্যাচে খেলছে দু দল  নিয়মরক্ষার এই ম্যাচটি বাংলাদেশের জন্য দেরাদুনের ক্ষত শুকানোর দারুণ একটি সুযোগ  গত জুনেই ভারতের দেরাদুনে তিন ম্যাচের টি টোয়েন্টি সিরিজের আফগানিস্তানের কাছে ৩ ০তে ধবলধোলাই হওয়ার লজ্জায় ডুবতে হয়েছিল বাংলাদেশকে  এই সিরিজটিই মুখোমুখি লড়াইয়ে এগিয়ে দিয়েছে আফগানদের  অবশ্য শুধু ওয়ানডের ক্ষেত্রে এগিয়ে বাংলাদেশ  ওয়ানডেতে দু দলের আগের পাঁচ ম্যাচের তিনটিতে জিতেছে বাংলাদেশ  দুটিতে আফগানিস্তান  আর টি টোয়েন্টিতে চার ম্যাচে আফগানদের তিন জয়ের বিপরীতে বাংলাদেশের জন্য একটি  সবমিলিয়ে আন্তর্জাতিক ক্রিকেটে নয়বারের দেখায় বাংলাদেশের জয় চারটি  আফগানিস্তানের পাঁচটি  আজ ওয়ানডেতে দু দলের ষষ্ঠ সাক্ষাতে বাংলাদেশ জিতলে মুখোমুখি লড়াইয়ে সমতা ফেরার পাশাপাশি দেরাদুনের জ্বালাও কিছুটা জুড়াবে  দু দলই শ্রীলংকাকে উড়িয়ে দিয়ে শুরু করেছে এশিয়া কাপ যাত্রা  এক জয়েই নিশ্চিত হয়ে গেছে সুপার ফোরের টিকিট  টুর্নামেন্টের মাঝপথে সূচির আচমকা বদলে গ্রুপসেরা হওয়ার ব্যাপারটি মূল্যহীন হয়ে যাওয়ায় আজকের ম্যাচটি শুধুই মর্যাদার লড়াই  \n",
            " Sentiment:--- 0.0 \n",
            "\n",
            "Original:\n",
            " ট্রাম্পকে উৎখাতের পরিকল্পনার অভিযোগ মার্কিন প্রেসিডেন্ট ডোনাল্ড ট্রাম্পকে উৎখাতের পরিকল্পনার অভিযোগ অস্বীকার করেছেন ডেপুটি অ্যাটর্নি জেনারেল রড রোসেনস্টেইন। তার বিরুদ্ধে, সাংবিধানিক ধারা সংশোধনীর মাধ্যমে ট্রাম্পকে ক্ষমতাচ্যুত করার আলোচনার অভিযোগ উঠেছে । ট্রাম্পকে পদচ্যুত করার ষড়যন্ত্রের বিষয়ে রোসেনস্টেইন বলেন, তাঁর বিরুদ্ধে আনা অভিযোগগুলো যথাযথ নয়। প্রকৃতপক্ষে সেগুলো ভুল। নাম প্রকাশে অনিচ্ছুক সূত্রের বরাত দিয়ে নিউইয়র্ক টাইমস জানায়, গোপনে প্রেসিডেন্টের কথাবার্তা রেকর্ড করে হোয়াইট হাউসে চলমান বিশৃংখলা ফাঁস করতে পরামর্শ দিয়েছিলেন রোসেনস্টেইন। গত বছর ট্রাম্প এফবিআই পরিচালক জেমস কমিকে বরখাস্ত করার পর রোসেনস্টেইন এ মন্তব্য করেন। /এমআর/ \n",
            "Cleaned:\n",
            " ট্রাম্পকে উৎখাতের পরিকল্পনার অভিযোগ মার্কিন প্রেসিডেন্ট ডোনাল্ড ট্রাম্পকে উৎখাতের পরিকল্পনার অভিযোগ অস্বীকার করেছেন ডেপুটি অ্যাটর্নি জেনারেল রড রোসেনস্টেইন  তার বিরুদ্ধে  সাংবিধানিক ধারা সংশোধনীর মাধ্যমে ট্রাম্পকে ক্ষমতাচ্যুত করার আলোচনার অভিযোগ উঠেছে   ট্রাম্পকে পদচ্যুত করার ষড়যন্ত্রের বিষয়ে রোসেনস্টেইন বলেন  তাঁর বিরুদ্ধে আনা অভিযোগগুলো যথাযথ নয়  প্রকৃতপক্ষে সেগুলো ভুল  নাম প্রকাশে অনিচ্ছুক সূত্রের বরাত দিয়ে নিউইয়র্ক টাইমস জানায়  গোপনে প্রেসিডেন্টের কথাবার্তা রেকর্ড করে হোয়াইট হাউসে চলমান বিশৃংখলা ফাঁস করতে পরামর্শ দিয়েছিলেন রোসেনস্টেইন  গত বছর ট্রাম্প এফবিআই পরিচালক জেমস কমিকে বরখাস্ত করার পর রোসেনস্টেইন এ মন্তব্য করেন   এমআর  \n",
            " Sentiment:--- 1.0 \n",
            "\n",
            "Original:\n",
            " সৌদি থেকে দেশে ফিরলেন আরও ৪১ নারী নির্যাতনের শিকার হয়ে সৌদি আরব থেকে দেশে ফিরলেন আরও ৪১ নারী। মঙ্গলবার (১৮ সেপ্টেম্বর) রাতে এয়ার অ্যারাবিয়া'র একটি ফ্লাইটে করে তারা হযরত শাহজালাল আন্তর্জাতিক বিমানবন্দরে পৌঁছান। পরিবারের আর্থিক সচ্ছলতার আশায় বিভিন্ন সময় তারা আরব দেশে পাড়ি জমালেও, তাদের চোখে মুখে এখন হতাশার ছাপ। ভুক্তভোগীরা বলছেন, প্রয়োজনীয় তদারকি ও নিরাপত্তা না থাকায় প্রতিনিয়তই নির্যাতনের শিকার হচ্ছেন নারী গৃহকর্মীরা।   পেটের দায়ে ভিনদেশে পাড়ি জমিয়েছিলেন মনি বেগম। স্বপ্ন বুনেছিলেন নিজের সবটুকু শ্রম দিয়ে পরিবারে আর্থিক সচ্ছলতা ফেরাবার। কিন্তু সে স্বপ্ন ছেড়ে শারীরিক নির্যাতন থেকে প্রাণে বাঁচতে অনেকের সঙ্গে সৌদি আরব থেকে দেশে ফিরলেন তিনিও। ১৫ মাস আগে গৃহকর্মী হিসেবে সৌদি পাড়ি জমালেও নিয়মিত তাকে পারিশ্রমিক দিতেন না মালিক। এছাড়া খাবার না দেয়ার পাশাপাশি মারধরও করা হতো। সৌদি ফেরত এক নারী জানান, পেটের দায়ে ওখানে গিয়েছিলাম। তারা আমাদের নির্যাতন করে করতো, খাবার দিত না। এরপরে তো সেখানে থাকা যায় না। তাই চলে আসছি। মঙ্গলবার রাত সোয়া ১১টার দিকে এয়ার অ্যারাবিয়ার একটি ফ্লাইটে মনির পাশাপাশি আরো ৪০ জন নারীকর্মী হযরত শাহজালাল আন্তর্জাতিক বিমানবন্দরে পৌঁছান। তাদেরও একই অভিযোগ। চুক্তি অনুযায়ী বেতন-ভাতা তো পেতেনই না, সেইসঙ্গ নানা অত্যাচার সহ্য করতে না পেরে, বাংলাদেশ দূতাবাসের সহায়তায় দেশে ফেরেন তারা। আরেক নারী জানান,  সৌদি আরবে একবছর ছিলাম। কিন্তু বেতন পেয়েছি মাত্র তিনমাসের। আর বেতন দেয়নি। বেতন চাইলে মারধর করে। এদিকে মোট ৪২জন নারীকর্মী সৌদি থেকে দেশে রওনা দিলেও অসুস্থ হয়ে পড়ার কারণে একজনকে দুবাই বিমানবন্দরে রাখা হয়েছে। আর ফেরত আসা নারীদের সহায়তা এগিয়ে আসা ব্র্যাকের অভিবাসন কর্মসূচির ব্যাক অভিবাসন কর্মসূচির উপপরিচালক মোফাজ্জল হোসেন বলেন গত ৫দিনের ব্যবধানেই দেশে ফিরেছেন ১০৭ নারী কর্মী। তাদের সাথে কথা জানতে ফেরেছি, এদের মধ্যে কেউ পাঁচ মাসের মধ্যে ফেরত এসেছে, আবার কেউ তিন মাসের মধ্যে চলে আসছে। ২০১৫ সালের ফেব্রুয়ারিতে গৃহকর্মী নিতে বাংলাদেশের সঙ্গে চুক্তি করে সৌদি আরব। সে অনুযায়ী.. কয়েক হাজার নারী কাজ করতে গেলেও চলতি বছরে নির্যাতনের মুখে দেশে ফিরে আসেন ১ হাজারেরও বেশি নারী গৃহকর্মী। \n",
            "Cleaned:\n",
            " সৌদি থেকে দেশে ফিরলেন আরও ৪১ নারী নির্যাতনের শিকার হয়ে সৌদি আরব থেকে দেশে ফিরলেন আরও ৪১ নারী  মঙ্গলবার  ১৮ সেপ্টেম্বর  রাতে এয়ার অ্যারাবিয়া র একটি ফ্লাইটে করে তারা হযরত শাহজালাল আন্তর্জাতিক বিমানবন্দরে পৌঁছান  পরিবারের আর্থিক সচ্ছলতার আশায় বিভিন্ন সময় তারা আরব দেশে পাড়ি জমালেও  তাদের চোখে মুখে এখন হতাশার ছাপ  ভুক্তভোগীরা বলছেন  প্রয়োজনীয় তদারকি ও নিরাপত্তা না থাকায় প্রতিনিয়তই নির্যাতনের শিকার হচ্ছেন নারী গৃহকর্মীরা    পেটের দায়ে ভিনদেশে পাড়ি জমিয়েছিলেন মনি বেগম  স্বপ্ন বুনেছিলেন নিজের সবটুকু শ্রম দিয়ে পরিবারে আর্থিক সচ্ছলতা ফেরাবার  কিন্তু সে স্বপ্ন ছেড়ে শারীরিক নির্যাতন থেকে প্রাণে বাঁচতে অনেকের সঙ্গে সৌদি আরব থেকে দেশে ফিরলেন তিনিও  ১৫ মাস আগে গৃহকর্মী হিসেবে সৌদি পাড়ি জমালেও নিয়মিত তাকে পারিশ্রমিক দিতেন না মালিক  এছাড়া খাবার না দেয়ার পাশাপাশি মারধরও করা হতো  সৌদি ফেরত এক নারী জানান  পেটের দায়ে ওখানে গিয়েছিলাম  তারা আমাদের নির্যাতন করে করতো  খাবার দিত না  এরপরে তো সেখানে থাকা যায় না  তাই চলে আসছি  মঙ্গলবার রাত সোয়া ১১টার দিকে এয়ার অ্যারাবিয়ার একটি ফ্লাইটে মনির পাশাপাশি আরো ৪০ জন নারীকর্মী হযরত শাহজালাল আন্তর্জাতিক বিমানবন্দরে পৌঁছান  তাদেরও একই অভিযোগ  চুক্তি অনুযায়ী বেতন ভাতা তো পেতেনই না  সেইসঙ্গ নানা অত্যাচার সহ্য করতে না পেরে  বাংলাদেশ দূতাবাসের সহায়তায় দেশে ফেরেন তারা  আরেক নারী জানান   সৌদি আরবে একবছর ছিলাম  কিন্তু বেতন পেয়েছি মাত্র তিনমাসের  আর বেতন দেয়নি  বেতন চাইলে মারধর করে  এদিকে মোট ৪২জন নারীকর্মী সৌদি থেকে দেশে রওনা দিলেও অসুস্থ হয়ে পড়ার কারণে একজনকে দুবাই বিমানবন্দরে রাখা হয়েছে  আর ফেরত আসা নারীদের সহায়তা এগিয়ে আসা ব্র্যাকের অভিবাসন কর্মসূচির ব্যাক অভিবাসন কর্মসূচির উপপরিচালক মোফাজ্জল হোসেন বলেন গত ৫দিনের ব্যবধানেই দেশে ফিরেছেন ১০৭ নারী কর্মী  তাদের সাথে কথা জানতে ফেরেছি  এদের মধ্যে কেউ পাঁচ মাসের মধ্যে ফেরত এসেছে  আবার কেউ তিন মাসের মধ্যে চলে আসছে  ২০১৫ সালের ফেব্রুয়ারিতে গৃহকর্মী নিতে বাংলাদেশের সঙ্গে চুক্তি করে সৌদি আরব  সে অনুযায়ী   কয়েক হাজার নারী কাজ করতে গেলেও চলতি বছরে নির্যাতনের মুখে দেশে ফিরে আসেন ১ হাজারেরও বেশি নারী গৃহকর্মী  \n",
            " Sentiment:--- 0.0 \n",
            "\n",
            "Original:\n",
            " আওয়ামীলীগের নির্বাচনী বহর চট্টগ্রাম যাচ্ছে আজ ট্রেনে উত্তরবঙ্গে নির্বাচনী সফরের পর সড়ক পথে আওয়ামী লীগের নির্বাচনী বহর চট্টগ্রাম যাচ্ছে আজ শনিবার। আওয়ামী লীগের সাধারণ সম্পাদক সড়ক পরিবহন ও সেতুমন্ত্রী ওবায়দুল কাদের এর নেতৃত্বে রয়েছেন। নির্বাচনী বহরটি কুমিল্লা ও ফেনী, সীতাকুন্ড এলাকায় পথসভা শেষ করে আজ সন্ধ্যার মধ্যে চট্টগ্রাম পৌঁছাতে পারে বলে চট্টগ্রামের আওয়ামীলীগ নেতৃবৃন্দ জানিয়েছেন। চট্টগ্রাম পৌঁছে নেতৃবৃন্দ চট্টগ্রাম সার্কিট হাউজে রাত যাপন করবেন এবং রোববার সকালে চট্টগ্রাম থেকে কক্সবাজারের উদ্দেশ্যে রওয়ানা দিবেন বলে জানা গেছে। কেন্দ্রীয় আওয়ামীলীগের সাংগঠনিক সম্পাদক এবং চট্টগ্রামের প্রয়াত মেয়র মহিউদ্দিন চৌধুরীর পুত্র ব্যারিস্টার মহিবুল হাসান চৌধুরী নওফেল জানান, প্রধানমন্ত্রী শেখ হাসিনার নেতৃত্বে দুই মেয়াদে আওয়ামী লীগ সরকারের উন্নয়ন কর্মকান্ড– জনসাধারণকে জানাতে এবং প্রচারের লক্ষ্যে সাধারণ সম্পাদকের নেতৃত্বে আওয়ামী লীগের নির্বাচনী বহর সকালে ঢাকা থেকে চট্টগ্রামের উদ্দেশ্যে রওয়ানা দিয়েছে। বহরে রয়েছেন আওয়ামী লীগের যুগ্ম সাধারণ সম্পাদক মাহবুবুল আলম হানিফ এমপি, প্রচার সম্পাদক ড. হাছান মাহমুদ এমপি, উপ–প্রচার সম্পাদক আমিনুল ইসলাম, সাংগঠনিক সম্পাদক একেএম এনামুল হক শামীম ও ব্যারিস্টার মহিবুল হাসান চৌধুরী নওফেল, উপ–দপ্তর সম্পাদক ব্যারিস্টার বিপ্লব বড়ুয়াসহ বিভিন্ন পর্যায়ের সিনিয়র নেতৃবৃন্দ। এদিকে আওয়ামীলীগের বহরকে স্বাগত জানাতে প্রস্তুতি নিয়েছে চট্টগ্রাম মহানগর, উত্তর এবং দক্ষিণ জেলা আওয়ামীলীগ। চট্টগ্রাম সিটি মেয়র ও নগর আওয়ামীলীগের সাধারণ সম্পাদক আ জ ম নাছির উদ্দিন এবং চট্টগ্রাম উন্নয়ন কর্তৃপক্ষের চেয়ারম্যান আবদুচ সালামের উদ্যোগে বহরকে আপ্যায়নের ব্যবস্থা নেওয়া হয়েছে। চট্টগ্রাম উত্তর জেলা আওয়ামী লীগের সাধারণ সম্পাদক ও চট্টগ্রাম জেলা পরিষদ চেয়ারম্যান এম এ সালাম জানান, শনিবার বিকাল ৪টার দিকে সীতাকুন্ড হাইস্কুল মাঠে পথসভা করবেন আগত আওয়ামীলীগ নেতৃবৃন্দ। পথসভায় চট্টগ্রামের সিনিয়র নেতারাও বক্তৃতা করবেন। পথসভা শেষ করে সন্ধ্যার মধ্যেই তারা চট্টগ্রাম সার্কিট হাউজে পৌঁছাতে পারেন। সার্কিট হাউজে রাত্রিযাপন শেষে রোববার সকালে নেতৃবৃন্দ কক্সবাজারের উদ্দেশ্যে রওয়ানা দিবেন। পথে চট্টগ্রামের কর্ণফুলী, আনোয়ারা এবং লোহাগাড়ার চুনতি এলাকায় পথসভা করবেন তারা।         রাইজিংবিডি/চট্টগ্রাম/২২ সেপ্টেম্বর ২০১৮/রেজাউল/টিপু \n",
            "Cleaned:\n",
            " আওয়ামীলীগের নির্বাচনী বহর চট্টগ্রাম যাচ্ছে আজ ট্রেনে উত্তরবঙ্গে নির্বাচনী সফরের পর সড়ক পথে আওয়ামী লীগের নির্বাচনী বহর চট্টগ্রাম যাচ্ছে আজ শনিবার  আওয়ামী লীগের সাধারণ সম্পাদক সড়ক পরিবহন ও সেতুমন্ত্রী ওবায়দুল কাদের এর নেতৃত্বে রয়েছেন  নির্বাচনী বহরটি কুমিল্লা ও ফেনী  সীতাকুন্ড এলাকায় পথসভা শেষ করে আজ সন্ধ্যার মধ্যে চট্টগ্রাম পৌঁছাতে পারে বলে চট্টগ্রামের আওয়ামীলীগ নেতৃবৃন্দ জানিয়েছেন  চট্টগ্রাম পৌঁছে নেতৃবৃন্দ চট্টগ্রাম সার্কিট হাউজে রাত যাপন করবেন এবং রোববার সকালে চট্টগ্রাম থেকে কক্সবাজারের উদ্দেশ্যে রওয়ানা দিবেন বলে জানা গেছে  কেন্দ্রীয় আওয়ামীলীগের সাংগঠনিক সম্পাদক এবং চট্টগ্রামের প্রয়াত মেয়র মহিউদ্দিন চৌধুরীর পুত্র ব্যারিস্টার মহিবুল হাসান চৌধুরী নওফেল জানান  প্রধানমন্ত্রী শেখ হাসিনার নেতৃত্বে দুই মেয়াদে আওয়ামী লীগ সরকারের উন্নয়ন কর্মকান্ড  জনসাধারণকে জানাতে এবং প্রচারের লক্ষ্যে সাধারণ সম্পাদকের নেতৃত্বে আওয়ামী লীগের নির্বাচনী বহর সকালে ঢাকা থেকে চট্টগ্রামের উদ্দেশ্যে রওয়ানা দিয়েছে  বহরে রয়েছেন আওয়ামী লীগের যুগ্ম সাধারণ সম্পাদক মাহবুবুল আলম হানিফ এমপি  প্রচার সম্পাদক ড  হাছান মাহমুদ এমপি  উপ প্রচার সম্পাদক আমিনুল ইসলাম  সাংগঠনিক সম্পাদক একেএম এনামুল হক শামীম ও ব্যারিস্টার মহিবুল হাসান চৌধুরী নওফেল  উপ দপ্তর সম্পাদক ব্যারিস্টার বিপ্লব বড়ুয়াসহ বিভিন্ন পর্যায়ের সিনিয়র নেতৃবৃন্দ  এদিকে আওয়ামীলীগের বহরকে স্বাগত জানাতে প্রস্তুতি নিয়েছে চট্টগ্রাম মহানগর  উত্তর এবং দক্ষিণ জেলা আওয়ামীলীগ  চট্টগ্রাম সিটি মেয়র ও নগর আওয়ামীলীগের সাধারণ সম্পাদক আ জ ম নাছির উদ্দিন এবং চট্টগ্রাম উন্নয়ন কর্তৃপক্ষের চেয়ারম্যান আবদুচ সালামের উদ্যোগে বহরকে আপ্যায়নের ব্যবস্থা নেওয়া হয়েছে  চট্টগ্রাম উত্তর জেলা আওয়ামী লীগের সাধারণ সম্পাদক ও চট্টগ্রাম জেলা পরিষদ চেয়ারম্যান এম এ সালাম জানান  শনিবার বিকাল ৪টার দিকে সীতাকুন্ড হাইস্কুল মাঠে পথসভা করবেন আগত আওয়ামীলীগ নেতৃবৃন্দ  পথসভায় চট্টগ্রামের সিনিয়র নেতারাও বক্তৃতা করবেন  পথসভা শেষ করে সন্ধ্যার মধ্যেই তারা চট্টগ্রাম সার্কিট হাউজে পৌঁছাতে পারেন  সার্কিট হাউজে রাত্রিযাপন শেষে রোববার সকালে নেতৃবৃন্দ কক্সবাজারের উদ্দেশ্যে রওয়ানা দিবেন  পথে চট্টগ্রামের কর্ণফুলী  আনোয়ারা এবং লোহাগাড়ার চুনতি এলাকায় পথসভা করবেন তারা          রাইজিংবিডি চট্টগ্রাম ২২ সেপ্টেম্বর ২০১৮ রেজাউল টিপু \n",
            " Sentiment:--- 2.0 \n",
            "\n",
            "Original:\n",
            " সিনহার ব্যাংক হিসাবের অনুসন্ধান শেষ পর্যায়ে সাবেক প্রধান বিচারপতি এস কে সিনহার ব্যাংক একাউন্টে অস্বাভাবিক লেনদেনের অভিযোগের অনুসন্ধান এখন শেষ পর্যায়ে। সত্যতা মিললে তদন্তে নামবে দুর্নীতি দমন কমিশন দুদক। আর সুপ্রিমকোর্ট আইনজীবী সমিতি মনে করছে, এসকে সিনহার বিরুদ্ধে অভিযোগের সত্যতা না থাকায় এক বছরেও তদন্ত শুরু করতে পারেনি দুদক। সংবিধানের ষোড়শ সংশোধনীর রায়কে কেন্দ্র করে দূরত্ব বাড়ে বিচার বিভাগ ও নির্বাহী বিভাগে। অবশেষে তোপের মুখে গত বছরের অক্টোবরে ছুটি নিয়ে বিদেশ গিয়ে পদত্যাগপত্র পাঠান সাবেক প্রধান বিচারপতি এস কে সিনহা। ছুটিতে থাকাকালে এস কে সিনহার বিরুদ্ধে নৈতিক স্খলনসহ ১১টি অভিযোগ ওঠে। তার ব্যাংক একাউন্টে অস্বাভাবিক লেনদেন অনুসন্ধানে নামে দুদক। জিজ্ঞাসাবাদ করা হয় তাঁর ঘনিষ্ট দুই ব্যবসায়ী মোহাম্মদ শাহজাহান ও নিরঞ্জন সাহাকে। একই সময়ে বিচারপতি জয়নুল আবেদিনের দুর্নীতির অনুসন্ধান বন্ধে, দুদককে সুপ্রিমকোর্টের দেয়া চিঠি, কর্তৃত্ব বহির্ভূত বলে এ সংক্রান্ত রুল নিষ্পত্তি করে হাইকোর্ট। সুপ্রিমকোর্ট আইনজীবী সমিতির সভাপতির দাবি, আক্রোশের বশবর্তী হয়ে নানা অভিযোগ এনে এস কে সিনহাকে হেয় করছে সরকার। দুদক জানিয়েছে, এস কে সিনহার বিরুদ্ধে দুর্নীতির অনুসন্ধান শেষ পর্যায়ে। বর্তমানে কানাডায় অবস্থানরত সাবেক প্রধান বিচারপতি এস কে সিনহা তার বইয়ে দেশত্যাগ ও পদত্যাগের জন্য সরকার ও গোয়েন্দা সংস্থার চাপকে দায়ী করেন। /এম-আই/ \n",
            "Cleaned:\n",
            " সিনহার ব্যাংক হিসাবের অনুসন্ধান শেষ পর্যায়ে সাবেক প্রধান বিচারপতি এস কে সিনহার ব্যাংক একাউন্টে অস্বাভাবিক লেনদেনের অভিযোগের অনুসন্ধান এখন শেষ পর্যায়ে  সত্যতা মিললে তদন্তে নামবে দুর্নীতি দমন কমিশন দুদক  আর সুপ্রিমকোর্ট আইনজীবী সমিতি মনে করছে  এসকে সিনহার বিরুদ্ধে অভিযোগের সত্যতা না থাকায় এক বছরেও তদন্ত শুরু করতে পারেনি দুদক  সংবিধানের ষোড়শ সংশোধনীর রায়কে কেন্দ্র করে দূরত্ব বাড়ে বিচার বিভাগ ও নির্বাহী বিভাগে  অবশেষে তোপের মুখে গত বছরের অক্টোবরে ছুটি নিয়ে বিদেশ গিয়ে পদত্যাগপত্র পাঠান সাবেক প্রধান বিচারপতি এস কে সিনহা  ছুটিতে থাকাকালে এস কে সিনহার বিরুদ্ধে নৈতিক স্খলনসহ ১১টি অভিযোগ ওঠে  তার ব্যাংক একাউন্টে অস্বাভাবিক লেনদেন অনুসন্ধানে নামে দুদক  জিজ্ঞাসাবাদ করা হয় তাঁর ঘনিষ্ট দুই ব্যবসায়ী মোহাম্মদ শাহজাহান ও নিরঞ্জন সাহাকে  একই সময়ে বিচারপতি জয়নুল আবেদিনের দুর্নীতির অনুসন্ধান বন্ধে  দুদককে সুপ্রিমকোর্টের দেয়া চিঠি  কর্তৃত্ব বহির্ভূত বলে এ সংক্রান্ত রুল নিষ্পত্তি করে হাইকোর্ট  সুপ্রিমকোর্ট আইনজীবী সমিতির সভাপতির দাবি  আক্রোশের বশবর্তী হয়ে নানা অভিযোগ এনে এস কে সিনহাকে হেয় করছে সরকার  দুদক জানিয়েছে  এস কে সিনহার বিরুদ্ধে দুর্নীতির অনুসন্ধান শেষ পর্যায়ে  বর্তমানে কানাডায় অবস্থানরত সাবেক প্রধান বিচারপতি এস কে সিনহা তার বইয়ে দেশত্যাগ ও পদত্যাগের জন্য সরকার ও গোয়েন্দা সংস্থার চাপকে দায়ী করেন   এম আই  \n",
            " Sentiment:--- 1.0 \n",
            "\n",
            "Original:\n",
            " প্রবাসীদের কল্যাণে সরকার অনেক কাজ করেছে : স্পেনে বিদ্যুৎ বড়ুয়া স্পেন আওয়ামী লীগের এর উদ্যোগে ‘আগামী জাতীয় নির্বাচনে প্রবাসী আওয়ামী লীগের ভূমিকা’ শীর্ষক এক আলোচনা সভা অনুষ্ঠিত হয়েছে। বৃহস্পতিবার স্পেনের রাজধানী মাদ্রিদের হোটেল পোর্সালের হল রুমে এ সভা অনুষ্ঠিত হয়। এতে সভাপতিত্ব করেন স্পেন আওয়ামী লীগের ভারপ্রাপ্ত সভাপতি মো. দুলাল সাফা। প্রধান আলোচক ছিলেন ঢাকা মেডিকেল কলেজ ছাত্র সংসদের সাবেক ভিপি ও সর্ব ইউরোপিয়ান আওয়ামী লীগের সাংগঠনিক সম্পাদক ড. বিদ্যুৎ বড়ুয়া। বিদ্যুৎ বড়ুয়া তার বক্তব্যে বলেন, প্রবাসীদের কল্যাণে আওয়ামী লীগ সরকার অনেক কাজ করেছে। প্রবাসী কল্যাণ ব্যাংকের মাধ্যমে বিদেশ গমনেচ্ছুদের জন্য সহজ কিস্তিতে ঋণ, প্রবাসীদের মরদেহ দেশে প্রেরণ এবং বিভিন্ন দেশে নতুন দূতাবাস প্রতিষ্ঠার মাধ্যমে প্রবাসীদের নাগরিক সেবা প্রদান করছে। প্রতিটি প্রবাসী বাংলাদেশের অর্থনীতিতে গুরুত্বপূর্ণ ভূমিকা পালন করে। প্রবাসীদের আত্মীয়-স্বজনের যারা দেশে থাকেন তাদের আগামী নির্বাচনে নৌকা প্রতীকে ভোটদানে অনুপ্রাণিত করারও আহবান জানান তিনি। প্রবাসীদের নিজ নিজ এলাকার উন্নয়নের চিত্র সোশ্যাল মিডিয়ায তুলে ধরার অনুরোধ করে তিনি বলেন, সকলের সম্মিলিত প্রচেষ্টায় শেখ হাসিনার অর্জিত সাফল্যকে ধরে রাখতে হবে এবং সকল ষড়যন্ত্রের প্রতিরোধে সজাগ থাকতে হবে। অনুষ্ঠানে বিশেষ বক্তা ছিলেন স্পেন আওয়ামী লীগের সাধারণ সম্পাদক সাবেক ছাত্রনেতা রিজভী আলম। আয়োজক সংগঠনের যুগ্ম সম্পাদক জসিম উদ্দিন ও মো. হাসান আহমেদের যৌথ পরিচালনায় সভায় আরও বক্তব্য রাখেন- সহ-সভাপতি আব্দুল কাদের ঢালী, বীর মুক্তিযোদ্ধা আব্দুর রহমান, যুগ্ম সম্পাদক তাপস দেবনাথ, এফ এম ফারুক পাভেল, আলমগীর হোসেন, সাংগঠনিক সম্পাদক সায়েম সরকার, জাকির হোসেন, প্রচার সম্পাদক জালাল হোসেন, অভিবাসন ও আইন সম্পাদক অ্যাডভোকেট তারিক হোসেন, কামরুজ্জামান, লিমন বড়ুয়া, নিজাম উদ্দিন, সিরাজুদ্দীন, যুবলীগ নেতা সোহাগ, ওয়াহিদুজ্জামান প্রমুখ। \n",
            "Cleaned:\n",
            " প্রবাসীদের কল্যাণে সরকার অনেক কাজ করেছে   স্পেনে বিদ্যুৎ বড়ুয়া স্পেন আওয়ামী লীগের এর উদ্যোগে  আগামী জাতীয় নির্বাচনে প্রবাসী আওয়ামী লীগের ভূমিকা  শীর্ষক এক আলোচনা সভা অনুষ্ঠিত হয়েছে  বৃহস্পতিবার স্পেনের রাজধানী মাদ্রিদের হোটেল পোর্সালের হল রুমে এ সভা অনুষ্ঠিত হয়  এতে সভাপতিত্ব করেন স্পেন আওয়ামী লীগের ভারপ্রাপ্ত সভাপতি মো  দুলাল সাফা  প্রধান আলোচক ছিলেন ঢাকা মেডিকেল কলেজ ছাত্র সংসদের সাবেক ভিপি ও সর্ব ইউরোপিয়ান আওয়ামী লীগের সাংগঠনিক সম্পাদক ড  বিদ্যুৎ বড়ুয়া  বিদ্যুৎ বড়ুয়া তার বক্তব্যে বলেন  প্রবাসীদের কল্যাণে আওয়ামী লীগ সরকার অনেক কাজ করেছে  প্রবাসী কল্যাণ ব্যাংকের মাধ্যমে বিদেশ গমনেচ্ছুদের জন্য সহজ কিস্তিতে ঋণ  প্রবাসীদের মরদেহ দেশে প্রেরণ এবং বিভিন্ন দেশে নতুন দূতাবাস প্রতিষ্ঠার মাধ্যমে প্রবাসীদের নাগরিক সেবা প্রদান করছে  প্রতিটি প্রবাসী বাংলাদেশের অর্থনীতিতে গুরুত্বপূর্ণ ভূমিকা পালন করে  প্রবাসীদের আত্মীয় স্বজনের যারা দেশে থাকেন তাদের আগামী নির্বাচনে নৌকা প্রতীকে ভোটদানে অনুপ্রাণিত করারও আহবান জানান তিনি  প্রবাসীদের নিজ নিজ এলাকার উন্নয়নের চিত্র সোশ্যাল মিডিয়ায তুলে ধরার অনুরোধ করে তিনি বলেন  সকলের সম্মিলিত প্রচেষ্টায় শেখ হাসিনার অর্জিত সাফল্যকে ধরে রাখতে হবে এবং সকল ষড়যন্ত্রের প্রতিরোধে সজাগ থাকতে হবে  অনুষ্ঠানে বিশেষ বক্তা ছিলেন স্পেন আওয়ামী লীগের সাধারণ সম্পাদক সাবেক ছাত্রনেতা রিজভী আলম  আয়োজক সংগঠনের যুগ্ম সম্পাদক জসিম উদ্দিন ও মো  হাসান আহমেদের যৌথ পরিচালনায় সভায় আরও বক্তব্য রাখেন  সহ সভাপতি আব্দুল কাদের ঢালী  বীর মুক্তিযোদ্ধা আব্দুর রহমান  যুগ্ম সম্পাদক তাপস দেবনাথ  এফ এম ফারুক পাভেল  আলমগীর হোসেন  সাংগঠনিক সম্পাদক সায়েম সরকার  জাকির হোসেন  প্রচার সম্পাদক জালাল হোসেন  অভিবাসন ও আইন সম্পাদক অ্যাডভোকেট তারিক হোসেন  কামরুজ্জামান  লিমন বড়ুয়া  নিজাম উদ্দিন  সিরাজুদ্দীন  যুবলীগ নেতা সোহাগ  ওয়াহিদুজ্জামান প্রমুখ  \n",
            " Sentiment:--- 2.0 \n",
            "\n",
            "Original:\n",
            " মিরপুরে মাদকবিক্রেতার ছুরিকাঘাতে ক্রেতার মৃত্যু রাজধানীর মিরপুরে মাদক ব্যবসায়ীর ছুরিকাঘাতে জাকির হোসেন (৩৫) নামে এক মাদকসেবী নিহত হয়েছেন। শুক্রবার রাত ৮টার দিকে মিরপুর সেকশন-২ রাইনখোলা এলাকায় এ ঘটনা ঘটে। নিহত ব্যক্তি পেশায় পরিবহন শ্রমিক। ছুরিকাঘাতে আহত হওয়ার পর মুমূর্ষু অবস্থায় তাকে ঢাকা মেডিকেল কলেজ হাসপাতালে নেয়া হলে কর্তব্যরত চিকিৎসক রাত সাড়ে ১০টায় জাকিরকে মৃত ঘোষণা করেন। নিহতের স্বজনরা জানান, মিরপুর কমার্স কলেজের ঢাল সংলগ্ন বস্তিতে মাদক কিনতে গিয়ে ছুরিকাঘাতে প্রথমে আহত হন জাকির। পরে দ্রুত তাকে উদ্ধার করে স্থানীয় একটি হাসপাতালে নেওয়া হয়। সেখানে অবস্থার অবনতি হলে তাকে ঢামেকে নেওয়ার পর কর্তব্যরত চিকিৎসক মৃত ঘোষণা করেন। ওই বস্তিতে মাদক কেনার সময় দাম নিয়ে জাকিরের সঙ্গে মাদক বিক্রেতাদের কথা কাটাকাটি হয়। এক পর্যায়ে বিক্রেতারা তার বুকে ছুরিকাঘাত করে বলে মৃত্যুর আগে জাকির বলে গেছেন। এমন দাবি করছেন নিহতের খালাতো ভাই পিন্টু।  শাহআলী থানার ভারপ্রাপ্ত কর্মকর্তা (ওসি) মো. সালাউদ্দিন মিয়া জানান, জাকির নামে এক ব্যক্তির মৃত্যুর সংবাদ পেয়ে পুলিশ ঘটনাস্থলে রয়েছে। তদন্তের পর বিস্তারিত জানা যাবে। বিডি প্রতিদিন/২২ সেপ্টেম্বর ২০১৮/আরাফাত \n",
            "Cleaned:\n",
            " মিরপুরে মাদকবিক্রেতার ছুরিকাঘাতে ক্রেতার মৃত্যু রাজধানীর মিরপুরে মাদক ব্যবসায়ীর ছুরিকাঘাতে জাকির হোসেন  ৩৫  নামে এক মাদকসেবী নিহত হয়েছেন  শুক্রবার রাত ৮টার দিকে মিরপুর সেকশন ২ রাইনখোলা এলাকায় এ ঘটনা ঘটে  নিহত ব্যক্তি পেশায় পরিবহন শ্রমিক  ছুরিকাঘাতে আহত হওয়ার পর মুমূর্ষু অবস্থায় তাকে ঢাকা মেডিকেল কলেজ হাসপাতালে নেয়া হলে কর্তব্যরত চিকিৎসক রাত সাড়ে ১০টায় জাকিরকে মৃত ঘোষণা করেন  নিহতের স্বজনরা জানান  মিরপুর কমার্স কলেজের ঢাল সংলগ্ন বস্তিতে মাদক কিনতে গিয়ে ছুরিকাঘাতে প্রথমে আহত হন জাকির  পরে দ্রুত তাকে উদ্ধার করে স্থানীয় একটি হাসপাতালে নেওয়া হয়  সেখানে অবস্থার অবনতি হলে তাকে ঢামেকে নেওয়ার পর কর্তব্যরত চিকিৎসক মৃত ঘোষণা করেন  ওই বস্তিতে মাদক কেনার সময় দাম নিয়ে জাকিরের সঙ্গে মাদক বিক্রেতাদের কথা কাটাকাটি হয়  এক পর্যায়ে বিক্রেতারা তার বুকে ছুরিকাঘাত করে বলে মৃত্যুর আগে জাকির বলে গেছেন  এমন দাবি করছেন নিহতের খালাতো ভাই পিন্টু   শাহআলী থানার ভারপ্রাপ্ত কর্মকর্তা  ওসি  মো  সালাউদ্দিন মিয়া জানান  জাকির নামে এক ব্যক্তির মৃত্যুর সংবাদ পেয়ে পুলিশ ঘটনাস্থলে রয়েছে  তদন্তের পর বিস্তারিত জানা যাবে  বিডি প্রতিদিন ২২ সেপ্টেম্বর ২০১৮ আরাফাত \n",
            " Sentiment:--- 2.0 \n",
            "\n",
            "Original:\n",
            " আয়কর রিটার্ন দাখিল আরও সহজ করতে হবে: প্রধান বিচারপতি জনগণের হয়রানি বন্ধে আয়কর রিটার্ন দাখিল আরও সহজ করার আহ্বান জানিয়েছেন প্রধান বিচারপতি সৈয়দ মাহমুদ হোসেন।  তিনি বলেন, করের আওতার বিস্তৃতির জন্য করবান্ধব সংস্কৃতি চালু করতে হবে। জনগণ যাতে অযথা হয়রানি না হয়, সেই লক্ষ্যে রিটার্ন দাখিল ও সম্পদ বিবরণী দাখিলের পদ্ধতি আরও সহজ করতে হবে।  তা ছাড়া বিকল্প বিরোধের মাধ্যমে কর-সংক্রান্ত মামলাগুলো নিষ্পত্তি করার ক্ষেত্রেও অধিক মনোযোগী হলে কর তথা রাজস্ব-সংক্রান্ত মামলাগুলো দ্রুত নিষ্পত্তি হবে এবং রাজস্ব আদায় বাড়বে বলে মন্তব্য করেন তিনি। শনিবার সুপ্রিম কোর্ট আইনজীবী সমিতি মিলনায়তনে মাসিক পত্রিকা ‘করাদালত’-এর তিন দশক পূর্তি উপলক্ষে আয়োজিত আলোচনা সভায় প্রধান অতিথির বক্তৃতায় তিনি এসব কথা বলেন। সরকারের রাজস্ব নীতি প্রসঙ্গে প্রধান বিচারপতি বলেন, সরকার রাজস্ব আয় বাড়ানোর উদ্দেশ্যে করনীতি সংস্কারের উদ্যোগ গ্রহণ করেছে। ২০২১-২২ অর্থবছরে এনবিআর রাজস্বের ৫০ শতাংশ আয়কর খাতে আদায়ের লক্ষ্যে দৃঢ়ভাবে কাজ করে যাচ্ছে। যা প্রশংসার দাবি রাখে। কারণ এক দশক আগেও এনবিআর আয়কর খাতে রাজস্বের মাত্র ২০ শতাংশ আদায় করত। এরই মধ্যে সরকার এ হারকে ৩৫ শতাংশে উন্নীত করেছে, যা আমাদের জন্য আশাব্যঞ্জক এবং পরার্থপরতার অর্থনীতি থেকে আমরা পরিত্রাণ পাচ্ছি। আশা করি কাঙ্ক্ষিত সময়ের মধ্যে বাংলাদেশ মধ্যম আয়ের দেশে পরিণত হবে। তিনি কর ব্যবস্থাকে সম্পূর্ণ ডিজিটালাইজ করার ওপরও গুরুত্বারোপ করেন।  করাদালত পত্রিকার প্রকাশক ও সম্পাদক আইনজীবী আবু আমজাদের সভাপতিত্বে সভায় আরও বক্তব্য দেন সাবেক বিচারপতি সৈয়দ আমীরুল ইসলাম, বার কাউন্সিলের সদস্য সৈয়দ রেজাউর রহমান, জাতীয় রাজস্ব বোর্ডের সদস্য সিরাজুল ইসলাম ও ট্যাপেস ল' ইয়ার অ্যাসোসিয়েশনের সভাপতি মনিরুল হুদা। \n",
            "Cleaned:\n",
            " আয়কর রিটার্ন দাখিল আরও সহজ করতে হবে  প্রধান বিচারপতি জনগণের হয়রানি বন্ধে আয়কর রিটার্ন দাখিল আরও সহজ করার আহ্বান জানিয়েছেন প্রধান বিচারপতি সৈয়দ মাহমুদ হোসেন   তিনি বলেন  করের আওতার বিস্তৃতির জন্য করবান্ধব সংস্কৃতি চালু করতে হবে  জনগণ যাতে অযথা হয়রানি না হয়  সেই লক্ষ্যে রিটার্ন দাখিল ও সম্পদ বিবরণী দাখিলের পদ্ধতি আরও সহজ করতে হবে   তা ছাড়া বিকল্প বিরোধের মাধ্যমে কর সংক্রান্ত মামলাগুলো নিষ্পত্তি করার ক্ষেত্রেও অধিক মনোযোগী হলে কর তথা রাজস্ব সংক্রান্ত মামলাগুলো দ্রুত নিষ্পত্তি হবে এবং রাজস্ব আদায় বাড়বে বলে মন্তব্য করেন তিনি  শনিবার সুপ্রিম কোর্ট আইনজীবী সমিতি মিলনায়তনে মাসিক পত্রিকা  করাদালত  এর তিন দশক পূর্তি উপলক্ষে আয়োজিত আলোচনা সভায় প্রধান অতিথির বক্তৃতায় তিনি এসব কথা বলেন  সরকারের রাজস্ব নীতি প্রসঙ্গে প্রধান বিচারপতি বলেন  সরকার রাজস্ব আয় বাড়ানোর উদ্দেশ্যে করনীতি সংস্কারের উদ্যোগ গ্রহণ করেছে  ২০২১ ২২ অর্থবছরে এনবিআর রাজস্বের ৫০ শতাংশ আয়কর খাতে আদায়ের লক্ষ্যে দৃঢ়ভাবে কাজ করে যাচ্ছে  যা প্রশংসার দাবি রাখে  কারণ এক দশক আগেও এনবিআর আয়কর খাতে রাজস্বের মাত্র ২০ শতাংশ আদায় করত  এরই মধ্যে সরকার এ হারকে ৩৫ শতাংশে উন্নীত করেছে  যা আমাদের জন্য আশাব্যঞ্জক এবং পরার্থপরতার অর্থনীতি থেকে আমরা পরিত্রাণ পাচ্ছি  আশা করি কাঙ্ক্ষিত সময়ের মধ্যে বাংলাদেশ মধ্যম আয়ের দেশে পরিণত হবে  তিনি কর ব্যবস্থাকে সম্পূর্ণ ডিজিটালাইজ করার ওপরও গুরুত্বারোপ করেন   করাদালত পত্রিকার প্রকাশক ও সম্পাদক আইনজীবী আবু আমজাদের সভাপতিত্বে সভায় আরও বক্তব্য দেন সাবেক বিচারপতি সৈয়দ আমীরুল ইসলাম  বার কাউন্সিলের সদস্য সৈয়দ রেজাউর রহমান  জাতীয় রাজস্ব বোর্ডের সদস্য সিরাজুল ইসলাম ও ট্যাপেস ল  ইয়ার অ্যাসোসিয়েশনের সভাপতি মনিরুল হুদা  \n",
            " Sentiment:--- 1.0 \n",
            "\n",
            "Original:\n",
            " খালেদা জিয়াসহ রাজনৈতিক বন্দিদের মুক্তি চাইলেন মান্না বিএনপির চেয়ারপারসন খালেদা জিয়াসহ দেশের সকল বিরোধী রাজনৈতিক বন্দিদের মুক্তি দাবি করেছেন নাগরিক ঐক্যের আহ্বায়ক, যুক্তফ্রন্ট নেতা মাহমুদুর রহমান মান্না। শনিবার বিকেলে মহানগর নাট্যমঞ্চে আয়োজিত ড. কামাল হোসেনের ডাকা নাগরিক সমাবেশে এ দাবি জানান তিনি। মান্না বলেন, ‘খালেদা জিয়াসহ সকল রাজনৈতিক বন্দিদের মুক্তি দিতে হবে। সবার মুক্তি দাবি করছি। এ মুক্তি দিতে হবে। যদি কেউ মনে করেন জোর করে লাঠি দিয়ে, পুলিশ দিয়ে বন্ধ করবেন, তাহলে এত জোরে কথা বলবো কেউ টিকবে না।’ এ সময় মান্না সরকারের কঠোর সমালোচনা করেন। তিনি বলেন, ‘দেশ গভীর সংকটে। গতকাল সারাদেশে সাড়ে তিন হাজার নেতাকর্মী গ্রেফতার করা হয়েছে।’ সবাই যাতে নির্বাচন করতে পারেন এমন নির্বাচন ব্যবস্থার আহ্বান জানান মান্না। ইতোমধ্যে সমাবেশে তেল গ্যাস বিদ্যুৎ বন্দর ও খনিজ সম্পদ রক্ষা কমিটির আহ্বায়ক শেখ মুহাম্মদ শহীদুল্লাহ অংশ নিয়েছেন। গণতান্ত্রিক বাম জোটের অন্যতম নেতা, গণসংহতি আন্দোলনের প্রধান সমন্বয়কারী জোনায়েদ সাকিও উপস্থিত হয়েছেন। নাগরিক সমাবেশে বিএনপির নেতাকর্মীরাও অংশ নিয়েছেন। সমাবেশে প্রায় প্রত্যেক বক্তার বক্তব্যের শুরু এবং শেষে স্লোগানে খালেদা জিয়ার মুক্তি দাবি করা হচ্ছে। \n",
            "Cleaned:\n",
            " খালেদা জিয়াসহ রাজনৈতিক বন্দিদের মুক্তি চাইলেন মান্না বিএনপির চেয়ারপারসন খালেদা জিয়াসহ দেশের সকল বিরোধী রাজনৈতিক বন্দিদের মুক্তি দাবি করেছেন নাগরিক ঐক্যের আহ্বায়ক  যুক্তফ্রন্ট নেতা মাহমুদুর রহমান মান্না  শনিবার বিকেলে মহানগর নাট্যমঞ্চে আয়োজিত ড  কামাল হোসেনের ডাকা নাগরিক সমাবেশে এ দাবি জানান তিনি  মান্না বলেন   খালেদা জিয়াসহ সকল রাজনৈতিক বন্দিদের মুক্তি দিতে হবে  সবার মুক্তি দাবি করছি  এ মুক্তি দিতে হবে  যদি কেউ মনে করেন জোর করে লাঠি দিয়ে  পুলিশ দিয়ে বন্ধ করবেন  তাহলে এত জোরে কথা বলবো কেউ টিকবে না   এ সময় মান্না সরকারের কঠোর সমালোচনা করেন  তিনি বলেন   দেশ গভীর সংকটে  গতকাল সারাদেশে সাড়ে তিন হাজার নেতাকর্মী গ্রেফতার করা হয়েছে   সবাই যাতে নির্বাচন করতে পারেন এমন নির্বাচন ব্যবস্থার আহ্বান জানান মান্না  ইতোমধ্যে সমাবেশে তেল গ্যাস বিদ্যুৎ বন্দর ও খনিজ সম্পদ রক্ষা কমিটির আহ্বায়ক শেখ মুহাম্মদ শহীদুল্লাহ অংশ নিয়েছেন  গণতান্ত্রিক বাম জোটের অন্যতম নেতা  গণসংহতি আন্দোলনের প্রধান সমন্বয়কারী জোনায়েদ সাকিও উপস্থিত হয়েছেন  নাগরিক সমাবেশে বিএনপির নেতাকর্মীরাও অংশ নিয়েছেন  সমাবেশে প্রায় প্রত্যেক বক্তার বক্তব্যের শুরু এবং শেষে স্লোগানে খালেদা জিয়ার মুক্তি দাবি করা হচ্ছে  \n",
            " Sentiment:--- 0.0 \n",
            "\n"
          ]
        }
      ]
    },
    {
      "cell_type": "code",
      "source": [
        "X = news_dataset['content1'].values\n",
        "Y = news_dataset['label'].values"
      ],
      "metadata": {
        "id": "ZinH2sPai06C"
      },
      "execution_count": null,
      "outputs": []
    },
    {
      "cell_type": "code",
      "source": [
        "X"
      ],
      "metadata": {
        "colab": {
          "base_uri": "https://localhost:8080/"
        },
        "id": "ExLsdWhgi5g6",
        "outputId": "4097d398-6a94-48b5-9ef4-92401c9e1898"
      },
      "execution_count": null,
      "outputs": [
        {
          "output_type": "execute_result",
          "data": {
            "text/plain": [
              "array(['হঠাৎ আফগান ক্রিকেট বোর্ড প্রধানের পদত্যাগ ক্রিকেট বিশ্বের নতুন চমকের নাম আফগানিস্তান। কয়েক বছরে তাদের পারফরম্যান্স নজর কেড়েছে ক্রিকেট জগতের। এশিয়া কাপের ১৪তম আসরেও দারুণ ছন্দে আছে আফগান ক্রিকেটাররা। পাঁচবারের এশিয়া কাপ চ্যাম্পিয়ন শ্রীলঙ্কাকে হারিয়ে এরই মধ্যে সেরা চারে পৌঁছে গেছে তারা। তবে দলের এমন ভালো সময়ে হঠাৎ করেই পদত্যাগ করেন আফগান ক্রিকেট বোর্ড (এসিবি) প্রধান আতিফ মাশাল। তবে হঠাৎ কী কারণে তার এই পদত্যাগ- এ নিয়ে ওঠা প্রশ্নের জবাব দিয়েছেন আতিফ। তিনি জানান, সরকারের অন্য একটি বিশেষ পদে তাকে নিয়োগ দেওয়ার কারণেই বোর্ডের দায়িত্ব থেকে অব্যাহতি। তার পরিবর্তে এসিবির দায়িত্ব নেবেন আফগান বোর্ডের সাবেক সহ সভাপতি আজিজ উল্লাহ ফজলে।\\xa0\\xa0 ২০১৭ সালের জানুয়ারিতে পাঁচ বছরের জন্য আতিফকে বোর্ড প্রধান নির্বাচন করা হলেও দায়িত্বের আড়াই বছরের মাথায় দায়িত্ব থেকে অব্যাহতি দিলেন তিনি। বিডি প্রতিদিন/ ওয়াসিফ',\n",
              "       'টস হেরে বোলিংয়ে বাংলাদেশ এশিয়া কাপের ষষ্ঠ ম্যাচে বাংলাদেশ দলের বিপক্ষে টস জিতে প্রথমে ব্যাট করার সিদ্ধান্ত নিয়েছেন আফগানিস্তান ক্রিকেট দলের অধিনায়ক আসগর আফগান। আবুধাবিতে খেলাটি অনুষ্ঠিত হচ্ছে। দেড় যুগ আগে বাংলাদেশ যখন টেস্ট আঙিনায় পা রাখে, আফগানদের তখন ক্রিকেটে হাতেখড়িই হয়নি। ১৮ বছর পর আন্তর্জাতিক ক্রিকেটে সব ফরম্যাট মিলিয়ে মুখোমুখি লড়াইয়ে সেই আফগানিস্তানের চেয়ে পিছিয়ে থাকাটা বাংলাদেশের জন্য নিঃসন্দেহে বিব্রতকর একটি ব্যাপার। আবুধাবিতে এশিয়া কাপের গ্রুপ পর্বের শেষ ম্যাচে খেলছে দু’দল। নিয়মরক্ষার এই ম্যাচটি বাংলাদেশের জন্য দেরাদুনের ক্ষত শুকানোর দারুণ একটি সুযোগ। গত জুনেই ভারতের দেরাদুনে তিন ম্যাচের টি-টোয়েন্টি সিরিজের আফগানিস্তানের কাছে ৩-০তে ধবলধোলাই হওয়ার লজ্জায় ডুবতে হয়েছিল বাংলাদেশকে। এই সিরিজটিই মুখোমুখি লড়াইয়ে এগিয়ে দিয়েছে আফগানদের। অবশ্য শুধু ওয়ানডের ক্ষেত্রে এগিয়ে বাংলাদেশ। ওয়ানডেতে দু’দলের আগের পাঁচ ম্যাচের তিনটিতে জিতেছে বাংলাদেশ, দুটিতে আফগানিস্তান। আর টি-টোয়েন্টিতে চার ম্যাচে আফগানদের তিন জয়ের বিপরীতে বাংলাদেশের জন্য একটি। সবমিলিয়ে আন্তর্জাতিক ক্রিকেটে নয়বারের দেখায় বাংলাদেশের জয় চারটি, আফগানিস্তানের পাঁচটি। আজ ওয়ানডেতে দু’দলের ষষ্ঠ সাক্ষাতে বাংলাদেশ জিতলে মুখোমুখি লড়াইয়ে সমতা ফেরার পাশাপাশি দেরাদুনের জ্বালাও কিছুটা জুড়াবে। দু’দলই শ্রীলংকাকে উড়িয়ে দিয়ে শুরু করেছে এশিয়া কাপ যাত্রা। এক জয়েই নিশ্চিত হয়ে গেছে সুপার ফোরের টিকিট। টুর্নামেন্টের মাঝপথে সূচির আচমকা বদলে গ্রুপসেরা হওয়ার ব্যাপারটি মূল্যহীন হয়ে যাওয়ায় আজকের ম্যাচটি শুধুই মর্যাদার লড়াই।',\n",
              "       'রাজধানীতে বিশেষ অভিযানে আটক ৪৩ রাজধানীতে মাদক বিরোধী বিশেষ অভিযান পরিচালনা করে ঢাকা মেট্রো পলিটন পুলিশ। এ সময় মাদক সেবন ও বিক্রির অভিযোগে ৪৩ জনকে আটক করে তারা। বুধবার (১৯ সেপ্টেম্বর) ভোর ছয়টা থেকে আজ বৃহস্পতিবার (২০ সেপ্টেম্বর) ভোর ছয়টা পর্যন্ত রাজধানীর বিভিন্ন থানা এলাকায় অভিযান চালিয়ে তাদেরকে আটক করে বলে ডিএমপির একটি সূত্র জানায়। ডিএমপির অধীনস্থ বিভিন্ন থানা ও গোয়েন্দা পুলিশ রাজধানীর কয়েকটি এলাকায় অভিযান পরিচালনা করে তাদেরকে আটক করে। এ সময় ২৯৫১ পিস ইয়াবা, ৫৩৫ গ্রাম ২৮২ পুরিয়া হেরোইন, ১ কেজি ৩৫৫ গ্রাম গাঁজা ও ৩২৯ কেজি খাট জাতীয় মাদকদ্রব্য উদ্ধার করা হয়। আটককৃতদের বিরুদ্ধে সংশ্লিষ্ট থানায় মাদকদ্রব্য নিয়ন্ত্রণ আইনে ২৭ টি মামলা করা হয়েছে। বিডি২৪লাইভ/এএফকে/এমআর',\n",
              "       ...,\n",
              "       'বরিশালে জাল দলিলসহ চার প্রতারক আটক বরিশাল: বরিশালে জাল দলিল তৈরির বিপুল পরিমাণ সরঞ্জামসহ প্রতারক চক্রের চার সদস্যকে আটক করেছে পুলিশ। বুধবার (১৯ সেপ্টেম্বর) বরিশাল নগরী এবং বানারীপাড়া উপজেলায় অভিযান চালিয়ে তাদের আটক করা হয়। দুপুরে বরিশাল পুলিশ লাইনে ইন সার্ভিস সেন্টারে সংবাদ সম্মেলনে এ তথ্য জানানো হয়। সংবাদ সম্মেলনে জেলা পুলিশ সুপার সাইফুল ইসলাম বলেন, গোপন সংবাদের ভিত্তিতে ইলুহার গ্রামে অভিযান চালিয়ে জাল দলিল তৈরির হোতা মুহুরী আবদুল মন্নান তালুকদারকে আটক করে বানারী থানা পুলিশ। পরে তার দেওয়া স্বীকারোক্তি অনুযায়ী অভিযান চালিয়ে নগরীর চকবাজার ও বগুড়া রোড থেকে বাবুল চৌকিদার, শাহজাহান হাওলাদার ও নজর আলী মৃধাকে আটক করে গোয়েন্দা পুলিশ (ডিবি)। এসময় তাদের কাছ থেকে\\xa0ব্রিটিশ আমল থেকে দলিল প্রস্তুতের স্ট্যাম্প, অসংখ্য জাল দলিল, বিভিন্ন অফিস আদালতের কয়েক শ’ সিল, ডিক্রি, আদালতের রায়ের কপি, ভুয়া ওয়ারেন্টসহ অনান্য কাগজপত্র জব্দ করা হয়েছে। এদের মধ্যে বাবুল চৌকিদার মেহেন্দিগঞ্জের আলিমাবাদ গ্রামের মো. আবুল হোসেন চৌকিদারের ছেলে, শাহজাহান হাওলাদার উজিরপুরের কেশবকাঠী গ্রামের মৃত. আ. রহিম হাওলাদারের ছেলে ও \\xa0নজর আলী মৃধা আগৈলঝাড়া উপজেলার মৃত. রহিম উদ্দিন মৃধার ছেলে। এ ব্যাপারে মামলা দায়েরের প্রস্তুতি চলছে বলেও জানান সাইফুল ইসলাম। বাংলাদেশ সময় : ১৪১৫ ঘন্টা, সেপ্টেম্বর ১৯, ২০১৮ এমএস/ওএইচ/',\n",
              "       'ধরা পড়েছেন সেই ঠগি ধীরে ধীরে পর্দা খুলছেন আমির খান। এবার তিনি জানালেন ঠগিদের দলপতির নাম। প্রকাশ করেছেন তাঁর ছবি। ঠগিদের যিনি দলপতি, কেমন ‘লুক’ তাঁর? আজ মঙ্গলবার সকালে ইউটিউবে এসেছে ‘থাগস অব হিন্দোস্থান’ ছবিতে খুদা বক্সের লুক। এই চরিত্রে অভিনয় করেছেন অমিতাভ বচ্চন। ২৫ সেকেন্ডের এই টিজার দেখে অমিতাভ বচ্চনের লুকের ব্যাপারে সহজেই ধারণা করা গেছে। আর এটি নাকি ছবিটিরও ফার্স্ট লুক। এবারই প্রথম তা প্রকাশ করেছে প্রযোজনা প্রতিষ্ঠান যশরাজ ফিল্মস। জানা গেছে, ফিলিপ মিডোস টেলরের উপন্যাস ‘কনফেশন অব আ ঠাগ’ এবং ‘কাল্ট অব দ্য ঠাগি’ অবলম্বনে তৈরি হয়েছে ‘থাগস অব হিন্দোস্থান’ ছবির কাহিনি। এ ছবির সময়কাল ১৯ শতকের প্রথম দিক। ছবিতে মুখ্য চরিত্রে অভিনয় করেছেন আমির খান। তাঁর চরিত্রের নাম আমির আলী। ‘থাগস অব হিন্দোস্থান’ ছবিটি মুক্তি পাবে আগামী দীপাবলিতে, ৮ নভেম্বর। যশরাজ ফিল্মস থেকে আগেই জানানো হয়েছে, ভারতে এবং ভারতের বাইরে বড় রিলিজ দেওয়ার জন্য পুরোপুরি প্রস্তুত তারা। ‘থাগস অব হিন্দোস্থান’ ছবি নিয়ে দর্শকদের মধ্যে প্রচুর কৌতূহল ও প্রত্যাশা তৈরি হয়েছে। আমির খান ও অমিতাভ বচ্চন ছাড়া এ ছবিতে আরও অভিনয় করেছেন ক্যাটরিনা কাইফ, ফতিমা সানা শেখ।',\n",
              "       'উচাখিলা কলেজের নির্বাচন স্থগিত ইংরেজিতে ভোটার তালিকা এবং মৃত ব্যক্তিকে এতে অন্তর্ভূক্ত করাসহ নানা অভিযোগে ময়মনসিংহের ঈশ্বরগঞ্জ উপজেলার উচাখিলা স্কুল অ্যান্ড কলেজ গভর্নিং বডির নির্বাচন স্থগিত করেছে উপজেলা প্রশাসন। বৃহস্পতিবার (২০ সেপ্টেম্বর) নির্বাচনটি হওয়ার কথা ছিল; যা স্থগিত করা হয়। পরে বিকেলে উপজেলা মাধ্যমিক শিক্ষা কর্মকর্তা আশরাফুল ইসলাম অপু বাংলানিউজকে নিশ্চিত করেন। এসময় তিনি বলেন, এ প্রতিষ্ঠানে ত্রুটিপূর্ণ ভোটার তালিকা প্রনয়ণ এবং বিধি লঙ্ঘন করে দাতা সদস্য নিয়োগের অভিযোগে গত ১২ সেপ্টেম্বর আদালতে মামলা দায়ের করেন অভিভাবক কাজী মোশারফ হোসেন। পরে ২০ সেপ্টেম্বর তাদের নির্বাচন করার কথা থাকলেও মামলার কারণে তা আর হয়নি। উপজেলা প্রশাসন স্থগিত করে দেয়। এদিকে, বিধি লঙ্ঘন করে দাতা সদস্য মনোনীত করার অভিযোগে আদালতে আরেকটি মামলা দায়ের করেছেন প্রতিষ্ঠানের আজীবন দাতা সদস্য সাবেক ইউপি চেয়ারম্যান আনোয়ারুল হাসান খাঁন সেলিম। এই মামলায় স্থানীয় উপজেলা চেয়ারম্যান ও প্রতিষ্ঠানের গভর্নিং বডির সভাপতি মাহমুদ হাসান সুমনসহ ছয়জনকে আসামি করা হয়।'],\n",
              "      dtype=object)"
            ]
          },
          "metadata": {},
          "execution_count": 20
        }
      ]
    },
    {
      "cell_type": "code",
      "source": [
        "Y"
      ],
      "metadata": {
        "colab": {
          "base_uri": "https://localhost:8080/"
        },
        "id": "xoAnZfgVi-Zz",
        "outputId": "3b26a8ac-9d01-440b-eb38-5e0bb4ff7473"
      },
      "execution_count": null,
      "outputs": [
        {
          "output_type": "execute_result",
          "data": {
            "text/plain": [
              "array([1., 0., 1., ..., 1., 1., 0.])"
            ]
          },
          "metadata": {},
          "execution_count": 21
        }
      ]
    },
    {
      "cell_type": "code",
      "source": [
        "Y=Y.astype('int')"
      ],
      "metadata": {
        "id": "j85ozrRJjIHr"
      },
      "execution_count": null,
      "outputs": []
    },
    {
      "cell_type": "code",
      "source": [
        "vectorizer = TfidfVectorizer()\n",
        "vectorizer.fit(X)\n",
        "\n",
        "X = vectorizer.transform(X)"
      ],
      "metadata": {
        "id": "6ANmlXU7jSA7"
      },
      "execution_count": null,
      "outputs": []
    },
    {
      "cell_type": "code",
      "source": [
        "print(X)"
      ],
      "metadata": {
        "colab": {
          "base_uri": "https://localhost:8080/"
        },
        "id": "1Mfla3bkj18j",
        "outputId": "9c5ebf80-28f0-49a3-8a59-2d445dcf4bc5"
      },
      "execution_count": null,
      "outputs": [
        {
          "output_type": "stream",
          "name": "stdout",
          "text": [
            "  (0, 8392)\t0.10947037613714204\n",
            "  (0, 7964)\t0.15019760106117613\n",
            "  (0, 7615)\t0.05395746278128046\n",
            "  (0, 7456)\t0.0483910140614749\n",
            "  (0, 7394)\t0.10029650977583458\n",
            "  (0, 7390)\t0.31772671157524845\n",
            "  (0, 7284)\t0.0592779322155423\n",
            "  (0, 7238)\t0.05820525427401076\n",
            "  (0, 7221)\t0.046917482789246595\n",
            "  (0, 7183)\t0.06587390157046913\n",
            "  (0, 6599)\t0.09919559892228838\n",
            "  (0, 6455)\t0.059129872531441224\n",
            "  (0, 6440)\t0.09666345406407512\n",
            "  (0, 6364)\t0.12767305069086224\n",
            "  (0, 6320)\t0.17777813614949145\n",
            "  (0, 6266)\t0.03540243883043915\n",
            "  (0, 6236)\t0.08212788596432019\n",
            "  (0, 5791)\t0.046975315906337634\n",
            "  (0, 5459)\t0.03625576367979991\n",
            "  (0, 5339)\t0.17816859384273384\n",
            "  (0, 5202)\t0.12845152467370946\n",
            "  (0, 5194)\t0.13400834405293374\n",
            "  (0, 5111)\t0.029741516755083894\n",
            "  (0, 5063)\t0.37095981715008225\n",
            "  (0, 5053)\t0.07628041296577291\n",
            "  :\t:\n",
            "  (5017, 3136)\t0.04089546966706869\n",
            "  (5017, 2904)\t0.13650950212137047\n",
            "  (5017, 2877)\t0.2798999007037128\n",
            "  (5017, 2800)\t0.08468783454812102\n",
            "  (5017, 2765)\t0.05261541506741529\n",
            "  (5017, 2566)\t0.0798759901205192\n",
            "  (5017, 2355)\t0.06778969641575874\n",
            "  (5017, 2275)\t0.060058892224596774\n",
            "  (5017, 2258)\t0.05358034095793718\n",
            "  (5017, 2074)\t0.034153735359000986\n",
            "  (5017, 1924)\t0.2787288029012602\n",
            "  (5017, 1848)\t0.0894584747950894\n",
            "  (5017, 1843)\t0.1303841729559416\n",
            "  (5017, 1805)\t0.1282468395583262\n",
            "  (5017, 1775)\t0.05143736617452291\n",
            "  (5017, 1522)\t0.10008203158271524\n",
            "  (5017, 1395)\t0.04505750567776382\n",
            "  (5017, 1389)\t0.09265285765852752\n",
            "  (5017, 1308)\t0.07013111637036415\n",
            "  (5017, 1209)\t0.043901267321289114\n",
            "  (5017, 1189)\t0.12186249983847337\n",
            "  (5017, 1133)\t0.053082420074697004\n",
            "  (5017, 900)\t0.16011425176689478\n",
            "  (5017, 835)\t0.07247763507196833\n",
            "  (5017, 815)\t0.029537545553066254\n"
          ]
        }
      ]
    },
    {
      "cell_type": "code",
      "source": [
        "X_train, X_test, Y_train, Y_test = train_test_split(X, Y, test_size = 0.3, stratify=Y, random_state=2)"
      ],
      "metadata": {
        "id": "-uOIYs-Fj6zs"
      },
      "execution_count": null,
      "outputs": []
    },
    {
      "cell_type": "code",
      "source": [
        "model = LogisticRegression()"
      ],
      "metadata": {
        "id": "R5w_5MNEkQra"
      },
      "execution_count": null,
      "outputs": []
    },
    {
      "cell_type": "code",
      "source": [
        "model.fit(X_train, Y_train)"
      ],
      "metadata": {
        "colab": {
          "base_uri": "https://localhost:8080/"
        },
        "id": "9gZUq_Ldkdta",
        "outputId": "6ad461e8-17fe-4ded-ae8b-3043c4763e5d"
      },
      "execution_count": null,
      "outputs": [
        {
          "output_type": "execute_result",
          "data": {
            "text/plain": [
              "LogisticRegression()"
            ]
          },
          "metadata": {},
          "execution_count": 27
        }
      ]
    },
    {
      "cell_type": "code",
      "source": [
        "LogisticRegression(C=1.0, class_weight=None, dual=False, fit_intercept=True,\n",
        "                   intercept_scaling=1, l1_ratio=None, max_iter=100,\n",
        "                   multi_class='auto', n_jobs=None, penalty='l2',\n",
        "                   random_state=None, solver='lbfgs', tol=0.0001, verbose=0,\n",
        "                   warm_start=False)"
      ],
      "metadata": {
        "colab": {
          "base_uri": "https://localhost:8080/"
        },
        "id": "J_imiomUkgsQ",
        "outputId": "14b2cf82-e35f-4a9e-f57a-1e41ca64756c"
      },
      "execution_count": null,
      "outputs": [
        {
          "output_type": "execute_result",
          "data": {
            "text/plain": [
              "LogisticRegression()"
            ]
          },
          "metadata": {},
          "execution_count": 28
        }
      ]
    },
    {
      "cell_type": "code",
      "source": [
        "X_train_prediction = model.predict(X_train)\n",
        "training_data_accuracy = accuracy_score(X_train_prediction, Y_train)"
      ],
      "metadata": {
        "id": "LMlvYAJekm7q"
      },
      "execution_count": null,
      "outputs": []
    },
    {
      "cell_type": "code",
      "source": [
        "print('Accuracy : ', training_data_accuracy)"
      ],
      "metadata": {
        "colab": {
          "base_uri": "https://localhost:8080/"
        },
        "id": "nFLkCcM-k4nj",
        "outputId": "98bbdd46-ec24-40d7-bd1c-72405df6ff92"
      },
      "execution_count": null,
      "outputs": [
        {
          "output_type": "stream",
          "name": "stdout",
          "text": [
            "Accuracy :  0.7730637813211845\n"
          ]
        }
      ]
    },
    {
      "cell_type": "code",
      "source": [
        ""
      ],
      "metadata": {
        "id": "LmffmSv8P1pq"
      },
      "execution_count": null,
      "outputs": []
    },
    {
      "cell_type": "code",
      "source": [
        "from sklearn.tree import DecisionTreeClassifier"
      ],
      "metadata": {
        "id": "tmnNDbUOnzMc"
      },
      "execution_count": null,
      "outputs": []
    },
    {
      "cell_type": "code",
      "source": [
        "nh = DecisionTreeClassifier()\n",
        "nh.fit(X_train, Y_train)"
      ],
      "metadata": {
        "colab": {
          "base_uri": "https://localhost:8080/"
        },
        "id": "fxBR4V1jn1BN",
        "outputId": "fbead0fa-5292-4464-ea7d-9c059bb1a390"
      },
      "execution_count": null,
      "outputs": [
        {
          "output_type": "execute_result",
          "data": {
            "text/plain": [
              "DecisionTreeClassifier()"
            ]
          },
          "metadata": {},
          "execution_count": 32
        }
      ]
    },
    {
      "cell_type": "code",
      "source": [
        "pred_dt = nh.predict(X_test)"
      ],
      "metadata": {
        "id": "4_YMqHJOoGmk"
      },
      "execution_count": null,
      "outputs": []
    },
    {
      "cell_type": "code",
      "source": [
        "nh.score(X_test, Y_test)"
      ],
      "metadata": {
        "colab": {
          "base_uri": "https://localhost:8080/"
        },
        "id": "F1m9qSMyoZzT",
        "outputId": "0a96dabf-8280-404d-f521-7911e4a575e4"
      },
      "execution_count": null,
      "outputs": [
        {
          "output_type": "execute_result",
          "data": {
            "text/plain": [
              "0.5571049136786188"
            ]
          },
          "metadata": {},
          "execution_count": 34
        }
      ]
    },
    {
      "cell_type": "code",
      "source": [
        "from sklearn.ensemble import RandomForestClassifier"
      ],
      "metadata": {
        "id": "ALWD62JTyxgm"
      },
      "execution_count": null,
      "outputs": []
    },
    {
      "cell_type": "code",
      "source": [
        "RFC = RandomForestClassifier (random_state=0)\n",
        "RFC.fit(X_train, Y_train)"
      ],
      "metadata": {
        "colab": {
          "base_uri": "https://localhost:8080/"
        },
        "id": "iqbLJhJWpGA9",
        "outputId": "1da3232b-be9c-4d0e-883c-559e63afc6e3"
      },
      "execution_count": null,
      "outputs": [
        {
          "output_type": "execute_result",
          "data": {
            "text/plain": [
              "RandomForestClassifier(random_state=0)"
            ]
          },
          "metadata": {},
          "execution_count": 36
        }
      ]
    },
    {
      "cell_type": "code",
      "source": [
        "pred_rfc = RFC.predict(X_test)"
      ],
      "metadata": {
        "id": "78_q2PE6pZXr"
      },
      "execution_count": null,
      "outputs": []
    },
    {
      "cell_type": "code",
      "source": [
        "RFC.score(X_test, Y_test)"
      ],
      "metadata": {
        "colab": {
          "base_uri": "https://localhost:8080/"
        },
        "id": "IbTeOe3kplGE",
        "outputId": "46016957-502d-4844-c1a3-4991a16cdf9b"
      },
      "execution_count": null,
      "outputs": [
        {
          "output_type": "execute_result",
          "data": {
            "text/plain": [
              "0.600265604249668"
            ]
          },
          "metadata": {},
          "execution_count": 38
        }
      ]
    }
  ]
}